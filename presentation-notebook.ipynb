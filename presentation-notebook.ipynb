{
 "cells": [
  {
   "attachments": {},
   "cell_type": "markdown",
   "metadata": {},
   "source": [
    "Notes for me:\n",
    "Order of operations:\n",
    "1. About Codewars and Kata\n",
    "2. Data collection\n",
    "3. Langauage analysis\n",
    "4. Tag analysis\n",
    "5. Difficulty analysis\n",
    "6. Favourite author\n",
    "7. Kata analysis:\n",
    "  * Kata completion ratios\n",
    "  * Most difficult kata solved\n",
    "  * Rarest kata solved\n",
    "  * Most problematic kata solved"
   ]
  },
  {
   "attachments": {},
   "cell_type": "markdown",
   "metadata": {},
   "source": [
    "# Codewars Analysis"
   ]
  },
  {
   "attachments": {},
   "cell_type": "markdown",
   "metadata": {},
   "source": [
    "## About Codewars and Kata"
   ]
  },
  {
   "attachments": {},
   "cell_type": "markdown",
   "metadata": {},
   "source": [
    "### What is Codewars?\n",
    "\n",
    "* Codewars is a website where you can practice your programming skills by solving programming challenges called kata.\n",
    "* Kata are ranked by difficulty and are authored by the community. 8 kyu kata are the easiest and 1 kyu kata are the most difficult.\n",
    "* It is a great way to improve your programming skills and learn new languages in a fun way."
   ]
  },
  {
   "attachments": {},
   "cell_type": "markdown",
   "metadata": {},
   "source": [
    "## Data collection"
   ]
  },
  {
   "attachments": {},
   "cell_type": "markdown",
   "metadata": {},
   "source": [
    "The data used within this project is my set of solutions to kata on Codewars. I have been using Codewars for a few months now and have solved around 600 kata.  \n",
    "\n",
    "To collect data I use a combination of scraping to get my solutions set, along with the Codewars API to collect additional data about the kata.  \n",
    "\n",
    "The data set is as such, ever evolving as I solve more kata and other people may use the scraper and API to collect their own data to use in this project."
   ]
  },
  {
   "attachments": {},
   "cell_type": "markdown",
   "metadata": {},
   "source": [
    "### Language Analysis"
   ]
  },
  {
   "attachments": {},
   "cell_type": "markdown",
   "metadata": {},
   "source": [
    "Analyse the languages used in the kata I have solved and the number of kata solved in each language."
   ]
  },
  {
   "attachments": {},
   "cell_type": "markdown",
   "metadata": {},
   "source": [
    "#### First Appearance of Languages\n",
    "The first Kata I ever solved was on the 7th March 2023. From then on, I've explored a variety of languages, with Python being the first language I used to solve a kata. This chart shows the first time I solved a kata in each language."
   ]
  },
  {
   "attachments": {},
   "cell_type": "markdown",
   "metadata": {},
   "source": [
    "![First Appearance of Languages](img/first_appearance_of_languages.png)"
   ]
  },
  {
   "attachments": {},
   "cell_type": "markdown",
   "metadata": {},
   "source": [
    "#### Representation of Languages Over Time\n",
    "This chart shows how the number of kata solved in each language has changed over time.  \n",
    "\n",
    "Python, Javascript and SQL have been my main focus and they have grown to be by far the most used languages in my kata solutions."
   ]
  },
  {
   "attachments": {},
   "cell_type": "markdown",
   "metadata": {},
   "source": [
    "![Representation of Languages Over Time](img/representation_of_languages_over_time.png)"
   ]
  },
  {
   "attachments": {},
   "cell_type": "markdown",
   "metadata": {},
   "source": [
    "### Tag Analysis\n",
    "\n",
    "Kata on Codewars are tagged with a variety of tags to describe the kata. The following section will analyse the tags used in the kata I have solved."
   ]
  },
  {
   "attachments": {},
   "cell_type": "markdown",
   "metadata": {},
   "source": [
    "#### Tag Frequency\n",
    "Limitations: highly over-represented/under-represented tags removed"
   ]
  },
  {
   "attachments": {},
   "cell_type": "markdown",
   "metadata": {},
   "source": [
    "![Tag Frequency](img/tag_frequency.png)"
   ]
  },
  {
   "attachments": {},
   "cell_type": "markdown",
   "metadata": {},
   "source": [
    "#### Tag Representation Over Time\n",
    "\n",
    "The following chart shows how the number of kata solved for the top 6 tags has changed over time."
   ]
  },
  {
   "attachments": {},
   "cell_type": "markdown",
   "metadata": {},
   "source": [
    "![Tag Representation Over Time](img/tag_representation_over_time.png)"
   ]
  },
  {
   "attachments": {},
   "cell_type": "markdown",
   "metadata": {},
   "source": [
    "#### Tags vs Languages\n",
    "The following chart shows which tags are most commonly used in each language."
   ]
  },
  {
   "attachments": {},
   "cell_type": "markdown",
   "metadata": {},
   "source": [
    "![Tags vs Languages](img/tags_vs_languages.png)"
   ]
  },
  {
   "attachments": {},
   "cell_type": "markdown",
   "metadata": {},
   "source": [
    "### Difficulty Analysis\n",
    "\n",
    "The following section will analyse the difficulty of the kata I have solved."
   ]
  },
  {
   "attachments": {},
   "cell_type": "markdown",
   "metadata": {},
   "source": [
    "#### Distribution of Difficulty"
   ]
  },
  {
   "attachments": {},
   "cell_type": "markdown",
   "metadata": {},
   "source": [
    "![Distribution of Difficulty](img/distribution_of_difficulty.png)"
   ]
  },
  {
   "attachments": {},
   "cell_type": "markdown",
   "metadata": {},
   "source": [
    "#### Distribution of Difficulties by Language"
   ]
  },
  {
   "attachments": {},
   "cell_type": "markdown",
   "metadata": {},
   "source": [
    "![Distribution of Difficulties by Language](img/difficulty_by_language.png)"
   ]
  },
  {
   "attachments": {},
   "cell_type": "markdown",
   "metadata": {},
   "source": [
    "### Favourite Authors\n",
    "\n",
    "This section will analyse the kata authors I have solved the most kata from."
   ]
  },
  {
   "attachments": {},
   "cell_type": "markdown",
   "metadata": {},
   "source": [
    "![Favourite Authors](img/favourite_authors.png)"
   ]
  },
  {
   "attachments": {},
   "cell_type": "markdown",
   "metadata": {},
   "source": [
    "### Kata Analysis\n",
    "\n",
    "This section aims to look at properties of the kata themselves to classify a few interesting things."
   ]
  },
  {
   "attachments": {},
   "cell_type": "markdown",
   "metadata": {},
   "source": [
    "#### Kata Completion Ratios\n",
    "\n",
    "The following chart shows the completion ratio of kata I have solved. The completion ratio is the number of people who have solved the kata divided by the number of people who have attempted the kata."
   ]
  },
  {
   "attachments": {},
   "cell_type": "markdown",
   "metadata": {},
   "source": [
    "![Kata Completion Ratios](img/kata_completion_ratio.png)"
   ]
  },
  {
   "attachments": {},
   "cell_type": "markdown",
   "metadata": {},
   "source": [
    "#### Most Difficult Kata Solved\n",
    "\n",
    "This kata is defined as the kata with the lowest completion to attempt ratio."
   ]
  },
  {
   "attachments": {},
   "cell_type": "markdown",
   "metadata": {},
   "source": [
    "# Text align justify\n",
    "**Completion ratio:** 0.0412969421142634  \n",
    "**Completion count:** 6134  \n",
    "**Attempts:** 148534  \n",
    "**Difficulty:** 4 kyu  \n",
    "**Language:** Python  \n",
    "**Issues**: 24  "
   ]
  },
  {
   "attachments": {},
   "cell_type": "markdown",
   "metadata": {},
   "source": [
    "```\n",
    "import math\n",
    "\n",
    "def justify(text, width):\n",
    "    words = text.split()\n",
    "    line = \"\"\n",
    "    lines = []\n",
    "    line_num = 0\n",
    "    for word in words:\n",
    "        word.rstrip()\n",
    "        if len(line) + len(word) <= width:\n",
    "            line += word + \" \"\n",
    "        else:\n",
    "            # strip whitespace from end of line and calculate how much remaining space there is\n",
    "            line = line.rstrip()\n",
    "            remaining_space = width - len(line)\n",
    "            print(\"Line \" + str(line_num) + \": \" + line)\n",
    "            print(\"Line length: \" + str(len(line)))\n",
    "            print(\"Remaining space\" + str(remaining_space))\n",
    "            if remaining_space == 0:\n",
    "                lines.append(line + \"\\n\")\n",
    "                line = word + \" \"\n",
    "                continue\n",
    "\n",
    "            # split line into words\n",
    "            line_words = line.split()\n",
    "            # if there is only one word in the line, just continue because lines shouldn't end with a space\n",
    "            if len(line_words) == 1:\n",
    "                lines.append(line + \"\\n\")\n",
    "                line = word + \" \"\n",
    "                continue\n",
    "            # calculate how much extra space to add per word\n",
    "            extra_spaces = math.floor(remaining_space / (len(line_words) - 1))\n",
    "            # There may be an error because of flooring this number, so calculate how many gaps will have an extra space\n",
    "            extra_space_gaps = remaining_space - \\\n",
    "                extra_spaces * (len(line_words) - 1)\n",
    "            print(extra_space_gaps)\n",
    "            # large gaps go first - clear line and start adding words and spaces\n",
    "            line = \"\"\n",
    "            for words in line_words[:-1]:\n",
    "                line += words + \" \"\n",
    "                if extra_space_gaps > 0:\n",
    "                    line += \" \"\n",
    "                    extra_space_gaps -= 1\n",
    "                line += (\" \" * extra_spaces)\n",
    "            # add last word to line\n",
    "            line += line_words[-1] + \"\\n\"\n",
    "\n",
    "            # add line to lines list\n",
    "            lines.append(line)\n",
    "            # reset line\n",
    "            line = word + \" \"\n",
    "\n",
    "    # add last line to lines list\n",
    "    lines.append(line.rstrip())\n",
    "    return \"\".join(lines).rstrip()\n",
    "```"
   ]
  },
  {
   "attachments": {},
   "cell_type": "markdown",
   "metadata": {},
   "source": [
    "#### Rarest Kata Solved\n",
    "\n",
    "This kata is defined as the kata with the lowest number of completions."
   ]
  },
  {
   "attachments": {},
   "cell_type": "markdown",
   "metadata": {},
   "source": [
    "# Maximum 2d subarray sum\n",
    "**Completion ratio:** 0.0782608695652174  \n",
    "**Completion count:** 18  \n",
    "**Attempts:** 230  \n",
    "**Difficulty:** nan  \n",
    "**Language:** Python  \n",
    "**Issues**: 5  "
   ]
  },
  {
   "attachments": {},
   "cell_type": "markdown",
   "metadata": {},
   "source": [
    "```\n",
    "import numpy as np\n",
    "\n",
    "def max_sum(arr):\n",
    "    arr = np.array(arr)\n",
    "    max_sum = -1\n",
    "    max_subarray = []\n",
    "    rows, cols = arr.shape\n",
    "    \n",
    "    for start_row in range(rows):\n",
    "        row_sums = np.zeros(cols)\n",
    "        \n",
    "        for end_row in range(start_row, rows):\n",
    "            row_sums += arr[end_row]\n",
    "            \n",
    "            # Apply Kadane's algorithm to find the maximum sum subarray in the 1D array\n",
    "            current_sum = 0\n",
    "            max_sum_so_far = 0\n",
    "            start_col = 0\n",
    "            end_col = 0\n",
    "            \n",
    "            for j, num in enumerate(row_sums):\n",
    "                current_sum += num\n",
    "                \n",
    "                if current_sum < 0:\n",
    "                    current_sum = 0\n",
    "                    start_col = j + 1\n",
    "                elif current_sum > max_sum_so_far:\n",
    "                    max_sum_so_far = current_sum\n",
    "                    end_col = j\n",
    "            \n",
    "            # Check if the current subarray has the maximum sum\n",
    "            if max_sum_so_far > max_sum:\n",
    "                max_sum = max_sum_so_far\n",
    "                max_subarray = [start_col, start_row, end_col, end_row]\n",
    "    \n",
    "    return max_subarray + [max_sum]\n",
    "\n",
    "```"
   ]
  },
  {
   "attachments": {},
   "cell_type": "markdown",
   "metadata": {},
   "source": [
    "#### Most Problematic Kata\n",
    "\n",
    "This is the kata with the most reported issues."
   ]
  },
  {
   "attachments": {},
   "cell_type": "markdown",
   "metadata": {},
   "source": [
    "# Codewars style ranking system\n",
    "**Completion ratio:** 0.046289077065974224  \n",
    "**Completion count:** 13655  \n",
    "**Attempts:** 294994  \n",
    "**Difficulty:** 4 kyu  \n",
    "**Language:** Python  \n",
    "**Issues**: 31  "
   ]
  },
  {
   "attachments": {},
   "cell_type": "markdown",
   "metadata": {},
   "source": [
    "```\n",
    "# TODO: create the User class\n",
    "# it must support rank, progress, and the inc_progress(rank) method\n",
    "ranks = [-8, -7, -6, -5, -4, -3, -2, -1, 1, 2, 3, 4, 5, 6, 7, 8]\n",
    "class User:\n",
    "    def __init__(self):\n",
    "        self.rank = -8\n",
    "        self.progress = 0\n",
    "        \n",
    "    def inc_progress(self, rank):\n",
    "        rank_pos = ranks.index(self.rank)\n",
    "        challenge_rank_pos = ranks.index(rank)\n",
    "        diff = challenge_rank_pos - rank_pos\n",
    "        progress = 0\n",
    "        if diff == -1:\n",
    "            progress = 1\n",
    "        elif diff == 0:\n",
    "            progress = 3\n",
    "        elif diff > 0:\n",
    "            progress = 10 * diff * diff\n",
    "            \n",
    "        self.progress += progress\n",
    "        \n",
    "        while self.progress >= 100:\n",
    "            try:\n",
    "                self.rank = ranks[ranks.index(self.rank) + 1]\n",
    "                self.progress -= 100\n",
    "            except:\n",
    "                self.rank = ranks[len(ranks) - 1]\n",
    "                self.progress = 0\n",
    "                break\n",
    "                \n",
    "        if self.rank == 8:\n",
    "            self.progress = 0\n",
    "```"
   ]
  }
 ],
 "metadata": {
  "language_info": {
   "name": "python"
  },
  "orig_nbformat": 4
 },
 "nbformat": 4,
 "nbformat_minor": 2
}
