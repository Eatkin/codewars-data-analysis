{
 "cells": [
  {
   "attachments": {},
   "cell_type": "markdown",
   "metadata": {},
   "source": [
    "# Codewars Solutions Analysis"
   ]
  },
  {
   "attachments": {},
   "cell_type": "markdown",
   "metadata": {},
   "source": [
    "## Imports"
   ]
  },
  {
   "cell_type": "code",
   "execution_count": 2,
   "metadata": {},
   "outputs": [],
   "source": [
    "import pandas as pd\n",
    "import numpy as np\n",
    "import matplotlib.pyplot as plt\n",
    "import seaborn as sns\n",
    "import os\n",
    "import re\n",
    "import requests\n",
    "import bs4 as BeautifulSoup\n",
    "from time import sleep\n",
    "%matplotlib inline"
   ]
  },
  {
   "cell_type": "code",
   "execution_count": 3,
   "metadata": {},
   "outputs": [],
   "source": [
    "# Set style to Solarize_Light2, the best style\n",
    "plt.style.use('Solarize_Light2')"
   ]
  },
  {
   "attachments": {},
   "cell_type": "markdown",
   "metadata": {},
   "source": [
    "### Load Pre-existing Data"
   ]
  },
  {
   "cell_type": "code",
   "execution_count": 4,
   "metadata": {},
   "outputs": [],
   "source": [
    "# Load the dataframe from .csv so we can ensure we don't create duplicate entries\n",
    "# Also so we don't have to scrape the site fully every time we run the notebook\n",
    "if os.path.isfile('codewars.csv'):\n",
    "    codewars_df = pd.read_csv('codewars.csv')"
   ]
  },
  {
   "attachments": {},
   "cell_type": "markdown",
   "metadata": {},
   "source": [
    "## Data Collection"
   ]
  },
  {
   "cell_type": "code",
   "execution_count": 5,
   "metadata": {},
   "outputs": [],
   "source": [
    "# Initialise git submodule if it doesn't exist\n",
    "if not os.path.isdir('codewars_scraper'):\n",
    "    !git submodule add https://github.com/Eatkin/codewars-scraper.git codewars_scraper\n",
    "\n",
    "!git submodule update --remote codewars_scraper"
   ]
  },
  {
   "cell_type": "code",
   "execution_count": 6,
   "metadata": {},
   "outputs": [
    {
     "data": {
      "text/plain": [
       "'/home/ed/code/Eatkin/codewars/codewars-analysis'"
      ]
     },
     "execution_count": 6,
     "metadata": {},
     "output_type": "execute_result"
    }
   ],
   "source": [
    "# Initialising the git submodule can change our directory so make sure we're back in the correct place\n",
    "# Also add an init file so we can import the scraper as a module\n",
    "if os.getcwd().endswith('codewars_scraper'):\n",
    "    !touch __init__.py\n",
    "    os.chdir(os.path.dirname(os.getcwd()))\n",
    "else:\n",
    "    os.chdir('codewars_scraper')\n",
    "    !touch __init__.py\n",
    "    os.chdir(os.path.dirname(os.getcwd()))\n",
    "\n",
    "os.getcwd()"
   ]
  },
  {
   "attachments": {},
   "cell_type": "markdown",
   "metadata": {},
   "source": [
    "### Run the Scraper\n",
    "You can run the scraper outside this Notebook by running python scraper.py and following the instructions"
   ]
  },
  {
   "attachments": {},
   "cell_type": "markdown",
   "metadata": {},
   "source": [
    "### Retrieve any New Problems"
   ]
  },
  {
   "cell_type": "code",
   "execution_count": 7,
   "metadata": {},
   "outputs": [
    {
     "data": {
      "text/plain": [
       "{'c': '.c',\n",
       " 'javascript': '.js',\n",
       " 'python': '.py',\n",
       " 'shell': '.sh',\n",
       " 'c#': '.cs',\n",
       " 'sql': '.sql',\n",
       " 'bf': '.bf'}"
      ]
     },
     "execution_count": 7,
     "metadata": {},
     "output_type": "execute_result"
    }
   ],
   "source": [
    "# Retrieve language filetypes\n",
    "from codewars_scraper.scraper import language_filetypes\n",
    "language_filetypes"
   ]
  },
  {
   "cell_type": "code",
   "execution_count": 8,
   "metadata": {},
   "outputs": [],
   "source": [
    "# Import new problems to the data folder\n",
    "# This is a \"dumb\" copy, it doesn't check if the problem already exists\n",
    "import shutil\n",
    "\n",
    "source_directory = 'codewars_scraper/'\n",
    "destination_directory = 'data/'\n",
    "\n",
    "# Iterate over the keys of the language_filetypes dictionary\n",
    "for language in language_filetypes:\n",
    "    # Find the matching folder name (case-insensitive)\n",
    "    matching_folder = next((folder for folder in os.listdir(source_directory) if folder.lower() == language.lower()), None)\n",
    "    \n",
    "    # Construct the source and destination paths for the current language\n",
    "    if matching_folder:\n",
    "        source_path = os.path.join(source_directory, matching_folder)\n",
    "        destination_path = os.path.join(destination_directory, matching_folder)\n",
    "\n",
    "        # This removes the destination directory if it already exists\n",
    "        if os.path.exists(destination_path):\n",
    "            shutil.rmtree(destination_path)\n",
    "    \n",
    "\n",
    "        # Copy the source directory to the destination directory\n",
    "        shutil.copytree(source_path, destination_path)"
   ]
  },
  {
   "attachments": {},
   "cell_type": "markdown",
   "metadata": {},
   "source": [
    "## Looping through data files"
   ]
  },
  {
   "cell_type": "code",
   "execution_count": 9,
   "metadata": {},
   "outputs": [
    {
     "name": "stdout",
     "output_type": "stream",
     "text": [
      "# https://www.codewars.com/kata/58ce8725c835848ad6000007\n",
      "# https://www.codewars.com/kata/56bc28ad5bdaeb48760009b0\n",
      "# https://www.codewars.com/kata/59bfe5f15227ddf81900007b\n",
      "# https://www.codewars.com/kata/582cb0224e56e068d800003c\n",
      "# https://www.codewars.com/kata/563a631f7cbbc236cf0000c2\n",
      "# https://www.codewars.com/kata/582cd9033c1acf1d45000052\n",
      "# https://www.codewars.com/kata/582cb0224e56e068d800003c\n",
      "# https://www.codewars.com/kata/57a0e5c372292dd76d000d7e\n",
      "# https://www.codewars.com/kata/51f2b4448cadf20ed0000386\n",
      "# https://www.codewars.com/kata/58261acb22be6e2ed800003a\n",
      "# https://www.codewars.com/kata/55cb632c1a5d7b3ad0000145\n",
      "# https://www.codewars.com/kata/554e4a2f232cdd87d9000038\n",
      "# https://www.codewars.com/kata/56541980fa08ab47a0000040\n",
      "# https://www.codewars.com/kata/5a03b3f6a1c9040084001765\n",
      "# https://www.codewars.com/kata/55a70521798b14d4750000a4\n",
      "# https://www.codewars.com/kata/55fd2d567d94ac3bc9000064\n",
      "# https://www.codewars.com/kata/58261acb22be6e2ed800003a\n",
      "# https://www.codewars.com/kata/5625618b1fe21ab49f00001f\n",
      "# https://www.codewars.com/kata/5625618b1fe21ab49f00001f\n",
      "# https://www.codewars.com/kata/634913db7611b9003dff49ad\n",
      "# https://www.codewars.com/kata/52685f7382004e774f0001f7\n",
      "# https://www.codewars.com/kata/523b623152af8a30c6000027\n",
      "# https://www.codewars.com/kata/53da6d8d112bd1a0dc00008b\n",
      "# https://www.codewars.com/kata/5552101f47fc5178b1000050\n",
      "# https://www.codewars.com/kata/51f2d1cafc9c0f745c00037d\n",
      "# https://www.codewars.com/kata/585d7d5adb20cf33cb000235\n",
      "# https://www.codewars.com/kata/6361bdb5d41160000ee6db86\n",
      "# https://www.codewars.com/kata/5208f99aee097e6552000148\n",
      "# https://www.codewars.com/kata/5667e8f4e3f572a8f2000039\n",
      "# https://www.codewars.com/kata/566044325f8fddc1c000002c\n",
      "# https://www.codewars.com/kata/5a3dd29055519e23ec000074\n",
      "# https://www.codewars.com/kata/517abf86da9663f1d2000003\n",
      "# https://www.codewars.com/kata/5641275f07335295f10000d0\n",
      "# https://www.codewars.com/kata/54bf85e3d5b56c7a05000cf9\n",
      "# https://www.codewars.com/kata/57b06f90e298a7b53d000a86\n",
      "# https://www.codewars.com/kata/53dbd5315a3c69eed20002dd\n",
      "# https://www.codewars.com/kata/5ad0d8356165e63c140014d4\n",
      "# https://www.codewars.com/kata/5842df8ccbd22792a4000245\n",
      "# https://www.codewars.com/kata/540afbe2dc9f615d5e000425\n",
      "# https://www.codewars.com/kata/5266876b8f4bf2da9b000362\n",
      "# https://www.codewars.com/kata/567bf4f7ee34510f69000032\n",
      "# https://www.codewars.com/kata/521c2db8ddc89b9b7a0000c1\n",
      "# https://www.codewars.com/kata/55ccdf1512938ce3ac000056\n",
      "# https://www.codewars.com/kata/57a37f3cbb99449513000cd8\n",
      "# https://www.codewars.com/kata/57d814e4950d8489720008db\n",
      "# https://www.codewars.com/kata/57cebe1dc6fdc20c57000ac9\n",
      "# https://www.codewars.com/kata/52c31f8e6605bcc646000082\n",
      "# https://www.codewars.com/kata/57a083a57cb1f31db7000028\n",
      "# https://www.codewars.com/kata/559590633066759614000063\n",
      "# https://www.codewars.com/kata/62cb487e43b37a5829ab5752\n",
      "# https://www.codewars.com/kata/60f3639b539c06001a076267\n",
      "# https://www.codewars.com/kata/52b305bec65ea40fe90007a7\n",
      "# https://www.codewars.com/kata/56a946cd7bd95ccab2000055\n",
      "# https://www.codewars.com/kata/55aa075506463dac6600010d\n",
      "# https://www.codewars.com/kata/54da539698b8a2ad76000228\n",
      "# https://www.codewars.com/kata/583203e6eb35d7980400002a\n",
      "# https://www.codewars.com/kata/57f609022f4d534f05000024\n",
      "# https://www.codewars.com/kata/58cb43f4256836ed95000f97\n",
      "# https://www.codewars.com/kata/55f2b110f61eb01779000053\n",
      "# https://www.codewars.com/kata/55685cd7ad70877c23000102\n",
      "# https://www.codewars.com/kata/514a024011ea4fb54200004b\n",
      "# https://www.codewars.com/kata/5a35f08b9e5f4923790010dc\n",
      "# https://www.codewars.com/kata/525f50e3b73515a6db000b83\n",
      "# https://www.codewars.com/kata/57cfdf34902f6ba3d300001e\n",
      "# https://www.codewars.com/kata/5ae62fcf252e66d44d00008e\n",
      "# https://www.codewars.com/kata/56efc695740d30f963000557\n",
      "# https://www.codewars.com/kata/5875b200d520904a04000003\n",
      "# https://www.codewars.com/kata/5a3fe3dde1ce0e8ed6000097\n",
      "# https://www.codewars.com/kata/596343a24489a8b2a00000a2\n",
      "# https://www.codewars.com/kata/55ecd718f46fba02e5000029\n",
      "# https://www.codewars.com/kata/5aa736a455f906981800360d\n",
      "# https://www.codewars.com/kata/5513795bd3fafb56c200049e\n",
      "# https://www.codewars.com/kata/55a5bfaa756cfede78000026\n",
      "# https://www.codewars.com/kata/5ab6538b379d20ad880000ab\n",
      "# https://www.codewars.com/kata/57eb8fcdf670e99d9b000272\n",
      "# https://www.codewars.com/kata/57e3f79c9cb119374600046b\n",
      "# https://www.codewars.com/kata/545cedaa9943f7fe7b000048\n",
      "# https://www.codewars.com/kata/56a5d994ac971f1ac500003e\n",
      "# https://www.codewars.com/kata/529eef7a9194e0cbc1000255\n",
      "# https://www.codewars.com/kata/586f6741c66d18c22800010a\n",
      "# https://www.codewars.com/kata/5526fc09a1bbd946250002dc\n",
      "# https://www.codewars.com/kata/56576f82ab83ee8268000059\n",
      "# https://www.codewars.com/kata/585d7d5adb20cf33cb000235\n",
      "# https://www.codewars.com/kata/515bb423de843ea99400000a\n",
      "# https://www.codewars.com/kata/525c65e51bf619685c000059\n",
      "# https://www.codewars.com/kata/546f922b54af40e1e90001da\n",
      "# https://www.codewars.com/kata/5279f6fe5ab7f447890006a7\n",
      "# https://www.codewars.com/kata/5390bac347d09b7da40006f6\n",
      "# https://www.codewars.com/kata/58f8a3a27a5c28d92e000144\n",
      "# https://www.codewars.com/kata/52742f58faf5485cae000b9a\n",
      "# https://www.codewars.com/kata/57814d79a56c88e3e0000786\n",
      "# https://www.codewars.com/kata/544675c6f971f7399a000e79\n",
      "# https://www.codewars.com/kata/54b42f9314d9229fd6000d9c\n",
      "# https://www.codewars.com/kata/50654ddff44f800200000004\n",
      "# https://www.codewars.com/kata/550f22f4d758534c1100025a\n",
      "# https://www.codewars.com/kata/5981ff1daf72e8747d000091\n",
      "# https://www.codewars.com/kata/54c27a33fb7da0db0100040e\n",
      "# https://www.codewars.com/kata/54e6533c92449cc251001667\n",
      "# https://www.codewars.com/kata/537e18b6147aa838f600001b\n",
      "# https://www.codewars.com/kata/577a98a6ae28071780000989\n",
      "# https://www.codewars.com/kata/54521e9ec8e60bc4de000d6c\n",
      "# https://www.codewars.com/kata/5c511d8877c0070e2c195faf\n",
      "# https://www.codewars.com/kata/57eaeb9578748ff92a000009\n",
      "# https://www.codewars.com/kata/54bf1c2cd5b56cc47f0007a1\n",
      "# https://www.codewars.com/kata/56170e844da7c6f647000063\n",
      "# https://www.codewars.com/kata/54da5a58ea159efa38000836\n",
      "# https://www.codewars.com/kata/555086d53eac039a2a000083\n",
      "# https://www.codewars.com/kata/576757b1df89ecf5bd00073b\n",
      "# https://www.codewars.com/kata/57e76bc428d6fbc2d500036d\n",
      "# https://www.codewars.com/kata/56606694ec01347ce800001b\n",
      "# https://www.codewars.com/kata/5679aa472b8f57fb8c000047\n",
      "# https://www.codewars.com/kata/52fba66badcd10859f00097e\n",
      "# https://www.codewars.com/kata/5c1a334516537ccd450000d8\n",
      "# https://www.codewars.com/kata/539ee3b6757843632d00026b\n",
      "# https://www.codewars.com/kata/5547929140907378f9000039\n",
      "# https://www.codewars.com/kata/56cd44e1aa4ac7879200010b\n",
      "# https://www.codewars.com/kata/52998bf8caa22d98b800003a\n",
      "# https://www.codewars.com/kata/5c511d8877c0070e2c195faf\n",
      "# https://www.codewars.com/kata/597d75744f4190857a00008d\n",
      "# https://www.codewars.com/kata/5b817c2a0ce070ace8002be0\n",
      "# https://www.codewars.com/kata/576b93db1129fcf2200001e6\n",
      "# https://www.codewars.com/kata/52adc142b2651f25a8000643\n",
      "# https://www.codewars.com/kata/578553c3a1b8d5c40300037c\n",
      "# https://www.codewars.com/kata/57eaeb9578748ff92a000009\n",
      "# https://www.codewars.com/kata/58f5c63f1e26ecda7e000029\n",
      "# https://www.codewars.com/kata/534d2f5b5371ecf8d2000a08\n",
      "# https://www.codewars.com/kata/5672a98bdbdd995fad00000f\n",
      "# https://www.codewars.com/kata/587136ba2eefcb92a9000027\n",
      "# https://www.codewars.com/kata/523f5d21c841566fde000009\n",
      "# https://www.codewars.com/kata/567bf4f7ee34510f69000032\n",
      "# https://www.codewars.com/kata/56a3f08aa9a6cc9b75000023\n",
      "# https://www.codewars.com/kata/5656b6906de340bd1b0000ac\n",
      "# https://www.codewars.com/kata/55c45be3b2079eccff00010f\n",
      "# https://www.codewars.com/kata/555eded1ad94b00403000071\n",
      "# https://www.codewars.com/kata/5412509bd436bd33920011bc\n",
      "# https://www.codewars.com/kata/5a00e05cc374cb34d100000d\n",
      "# https://www.codewars.com/kata/521c2db8ddc89b9b7a0000c1\n",
      "# https://www.codewars.com/kata/5637b03c6be7e01d99000046\n",
      "# https://www.codewars.com/kata/57e1e61ba396b3727c000251\n",
      "# https://www.codewars.com/kata/53af2b8861023f1d88000832\n",
      "# https://www.codewars.com/kata/56a25ba95df27b7743000016\n",
      "# https://www.codewars.com/kata/5556282156230d0e5e000089\n",
      "# https://www.codewars.com/kata/563f037412e5ada593000114\n",
      "# https://www.codewars.com/kata/558fc85d8fd1938afb000014\n",
      "# https://www.codewars.com/kata/55968ab32cf633c3f8000008\n",
      "# https://www.codewars.com/kata/57eadb7ecd143f4c9c0000a3\n",
      "# https://www.codewars.com/kata/554ca54ffa7d91b236000023\n",
      "# https://www.codewars.com/kata/5264d2b162488dc400000001\n",
      "# https://www.codewars.com/kata/54b724efac3d5402db00065e\n",
      "# https://www.codewars.com/kata/563cf89eb4747c5fb100001b\n",
      "# https://www.codewars.com/kata/57a55c8b72292d057b000594\n",
      "# https://www.codewars.com/kata/55a144eff5124e546400005a\n",
      "# https://www.codewars.com/kata/5254ca2719453dcc0b00027d\n",
      "# https://www.codewars.com/kata/52efefcbcdf57161d4000091\n",
      "# https://www.codewars.com/kata/5545f109004975ea66000086\n",
      "# https://www.codewars.com/kata/5a03af9606d5b65ff7000009\n",
      "# https://www.codewars.com/kata/568d0dd208ee69389d000016\n",
      "# https://www.codewars.com/kata/57ea5b0b75ae11d1e800006c\n",
      "# https://www.codewars.com/kata/5899dc03bc95b1bf1b0000ad\n",
      "# https://www.codewars.com/kata/5626b561280a42ecc50000d1\n",
      "# https://www.codewars.com/kata/55bf01e5a717a0d57e0000ec\n",
      "# https://www.codewars.com/kata/542c0f198e077084c0000c2e\n",
      "# https://www.codewars.com/kata/55c45be3b2079eccff00010f\n",
      "# https://www.codewars.com/kata/5641275f07335295f10000d0\n",
      "# https://www.codewars.com/kata/551f37452ff852b7bd000139\n",
      "# https://www.codewars.com/kata/550498447451fbbd7600041c\n",
      "# https://www.codewars.com/kata/5a48fab7bdb9b5b3690009b6\n",
      "# https://www.codewars.com/kata/52c31f8e6605bcc646000082\n",
      "# https://www.codewars.com/kata/57ee4a67108d3fd9eb0000e7\n",
      "# https://www.codewars.com/kata/53f0f358b9cb376eca001079\n",
      "# https://www.codewars.com/kata/5966e33c4e686b508700002d\n",
      "# https://www.codewars.com/kata/541c8630095125aba6000c00\n",
      "# https://www.codewars.com/kata/5acbc3b3481ebb23a400007d\n",
      "# https://www.codewars.com/kata/556deca17c58da83c00002db\n",
      "# https://www.codewars.com/kata/51c8e37cee245da6b40000bd\n",
      "# https://www.codewars.com/kata/530e15517bc88ac656000716\n",
      "# https://www.codewars.com/kata/577bd026df78c19bca0002c0\n",
      "# https://www.codewars.com/kata/54a91a4883a7de5d7800009c\n",
      "# https://www.codewars.com/kata/5949481f86420f59480000e7\n",
      "# https://www.codewars.com/kata/517abf86da9663f1d2000003\n",
      "# https://www.codewars.com/kata/5571f712ddf00b54420000ee\n",
      "# https://www.codewars.com/kata/5279f6fe5ab7f447890006a7\n",
      "# https://www.codewars.com/kata/54fe05c4762e2e3047000add\n",
      "# https://www.codewars.com/kata/52742f58faf5485cae000b9a\n",
      "# https://www.codewars.com/kata/5ce9c1000bab0b001134f5af\n",
      "# https://www.codewars.com/kata/5592e3bd57b64d00f3000047\n",
      "# https://www.codewars.com/kata/5c511d8877c0070e2c195faf\n",
      "# https://www.codewars.com/kata/568dcc3c7f12767a62000038\n",
      "# https://www.codewars.com/kata/55a144eff5124e546400005a\n",
      "# https://www.codewars.com/kata/5b39e91ee7a2c103300018b3\n",
      "# https://www.codewars.com/kata/55f8a9c06c018a0d6e000132\n",
      "# https://www.codewars.com/kata/56a921fa8c5167d8e7000053\n",
      "https://www.codewars.com/kata/56b1f01c247c01db92000076\n",
      "https://www.codewars.com/kata/59a96d71dbe3b06c0200009c\n",
      "https://www.codewars.com/kata/596f7ec359f9e9b017000006\n",
      "https://www.codewars.com/kata/596f80b5f468ae8daa000013\n",
      "https://www.codewars.com/kata/60b9c96dce6b05000eccac7d\n",
      "https://www.codewars.com/kata/60b9c96dce6b05000eccac7d\n",
      "https://www.codewars.com/kata/596f7d99f468ae8daa00000b\n",
      "https://www.codewars.com/kata/57a0556c7cb1f31ab3000ad7\n",
      "https://www.codewars.com/kata/57fae964d80daa229d000126\n",
      "https://www.codewars.com/kata/596f88f359f9e99030000012\n",
      "https://www.codewars.com/kata/5a79601b373c2e3b4a00013c\n",
      "-- https://www.codewars.com/kata/5e5f09dc0a17be0023920f6f\n",
      "-- https://www.codewars.com/kata/5a023c426975981341000014\n",
      "-- https://www.codewars.com/kata/580878d5d27b84b64c000b51\n",
      "-- https://www.codewars.com/kata/5910b0d378cc2ba91400000b\n",
      "-- https://www.codewars.com/kata/594257d4db68b6e99200002c\n",
      "-- https://www.codewars.com/kata/5811527d9d278b242f000006\n",
      "-- https://www.codewars.com/kata/57eae65a4321032ce000002d\n",
      "-- https://www.codewars.com/kata/594633020a561e329a0000a2\n",
      "-- https://www.codewars.com/kata/594a50bafd3b7031c1000013\n",
      "-- https://www.codewars.com/kata/590cc86f7557c0494000007e\n",
      "-- https://www.codewars.com/kata/581113dce10b531b1d0000bd\n",
      "-- https://www.codewars.com/kata/582cba7d3be8ce3a8300007c\n",
      "-- https://www.codewars.com/kata/590ba881fe13cfdcc20001b4\n",
      "-- https://www.codewars.com/kata/522551eee9abb932420004a0\n",
      "-- https://www.codewars.com/kata/5168bb5dfe9a00b126000018\n",
      "-- https://www.codewars.com/kata/58111670e10b53be31000108\n",
      "-- https://www.codewars.com/kata/580fe518cefeff16d00000c0\n",
      "-- https://www.codewars.com/kata/642ff90503d3e2c9426fd500\n",
      "-- https://www.codewars.com/kata/59413d53f5c3947364000016\n",
      "-- https://www.codewars.com/kata/5809508cc47d327c12000084\n",
      "-- https://www.codewars.com/kata/58111f4ee10b5301a7000175\n",
      "-- https://www.codewars.com/kata/55fc061cc4f485a39900001f\n",
      "-- https://www.codewars.com/kata/5694cb0ec554589633000036\n",
      "-- https://www.codewars.com/kata/53369039d7ab3ac506000467\n",
      "-- https://www.codewars.com/kata/59414360f5c3947364000070\n",
      "-- https://www.codewars.com/kata/59401e0e54a655a298000040\n",
      "-- https://www.codewars.com/kata/583710ccaa6717322c000105\n",
      "-- https://www.codewars.com/kata/54ff3102c1bad923760001f3\n",
      "-- https://www.codewars.com/kata/57a1fd2ce298a731b20006a4\n",
      "-- https://www.codewars.com/kata/5861d28f124b35723e00005e\n",
      "-- https://www.codewars.com/kata/591127cbe8b9fb05bd00004b\n",
      "-- https://www.codewars.com/kata/6391fe3f322221003db3bad6\n",
      "-- https://www.codewars.com/kata/5ab828bcedbcfc65ea000099\n",
      "-- https://www.codewars.com/kata/594a691720ac16a544000075\n",
      "-- https://www.codewars.com/kata/580918e24a85b05ad000010c\n",
      "-- https://www.codewars.com/kata/5168bb5dfe9a00b126000018\n",
      "-- https://www.codewars.com/kata/57eae65a4321032ce000002d\n",
      "-- https://www.codewars.com/kata/590a95eede09f87472000213\n",
      "// https://www.codewars.com/kata/577ff15ad648a14b780000e7\n",
      "// https://www.codewars.com/kata/56676e8fabd2d1ff3000000c\n",
      "// https://www.codewars.com/kata/5648b12ce68d9daa6b000099\n",
      "// https://www.codewars.com/kata/57eae20f5500ad98e50002c5\n",
      "// https://www.codewars.com/kata/55f9bca8ecaa9eac7100004a\n",
      "// https://www.codewars.com/kata/58649884a1659ed6cb000072\n",
      "// https://www.codewars.com/kata/56269eb78ad2e4ced1000013\n",
      "// https://www.codewars.com/kata/5bb904724c47249b10000131\n",
      "// https://www.codewars.com/kata/55908aad6620c066bc00002a\n",
      "// https://www.codewars.com/kata/57f781872e3d8ca2a000007e\n",
      "// https://www.codewars.com/kata/515e271a311df0350d00000f\n",
      "// https://www.codewars.com/kata/5772da22b89313a4d50012f7\n",
      "// https://www.codewars.com/kata/5259b20d6021e9e14c0010d4\n",
      "// https://www.codewars.com/kata/577ff15ad648a14b780000e7\n",
      "// https://www.codewars.com/kata/57f780909f7e8e3183000078\n",
      "// https://www.codewars.com/kata/563b662a59afc2b5120000c6\n",
      "// https://www.codewars.com/kata/523b4ff7adca849afe000035\n",
      "// https://www.codewars.com/kata/5583090cbe83f4fd8c000051\n",
      "// https://www.codewars.com/kata/53da3dbb4a5168369a0000fe\n",
      "// https://www.codewars.com/kata/56676e8fabd2d1ff3000000c\n",
      "// https://www.codewars.com/kata/5b077ebdaf15be5c7f000077\n",
      "// https://www.codewars.com/kata/5601409514fc93442500010b\n",
      "// https://www.codewars.com/kata/55fab1ffda3e2e44f00000c6\n",
      "// https://www.codewars.com/kata/5265326f5fda8eb1160004c8\n",
      "// https://www.codewars.com/kata/55d24f55d7dd296eb9000030\n",
      "// https://www.codewars.com/kata/5648b12ce68d9daa6b000099\n",
      "// https://www.codewars.com/kata/523b4ff7adca849afe000035\n",
      "// https://www.codewars.com/kata/515e271a311df0350d00000f\n",
      "// https://www.codewars.com/kata/56269eb78ad2e4ced1000013\n",
      "// https://www.codewars.com/kata/563b662a59afc2b5120000c6\n",
      "// https://www.codewars.com/kata/53ee5429ba190077850011d4\n",
      "// https://www.codewars.com/kata/56dec885c54a926dcd001095\n",
      "// https://www.codewars.com/kata/55d24f55d7dd296eb9000030\n",
      "// https://www.codewars.com/kata/55f9b48403f6b87a7c0000bd\n",
      "// https://www.codewars.com/kata/554b4ac871d6813a03000035\n",
      "// https://www.codewars.com/kata/57f780909f7e8e3183000078\n",
      "// https://www.codewars.com/kata/57a429e253ba3381850000fb\n",
      "// https://www.codewars.com/kata/523b4ff7adca849afe000035\n",
      "// https://www.codewars.com/kata/55f73be6e12baaa5900000d4\n",
      "// https://www.codewars.com/kata/53dc23c68a0c93699800041d\n",
      "// https://www.codewars.com/kata/551b4501ac0447318f0009cd\n",
      "// https://www.codewars.com/kata/53dc54212259ed3d4f00071c\n",
      "// https://www.codewars.com/kata/59ca8246d751df55cc00014c\n",
      "// https://www.codewars.com/kata/576bb71bbbcf0951d5000044\n",
      "// https://www.codewars.com/kata/57356c55867b9b7a60000bd7\n",
      "// https://www.codewars.com/kata/54edbc7200b811e956000556\n",
      "// https://www.codewars.com/kata/55a2d7ebe362935a210000b2\n",
      "// https://www.codewars.com/kata/57a0885cbb9944e24c00008e\n",
      "// https://www.codewars.com/kata/5715eaedb436cf5606000381\n",
      "// https://www.codewars.com/kata/55cbc3586671f6aa070000fb\n",
      "// https://www.codewars.com/kata/557cd6882bfa3c8a9f0000c1\n"
     ]
    }
   ],
   "source": [
    "# This will loop through every file in the data folder and extract the link\n",
    "path = \"data/\"\n",
    "\n",
    "for root, dirs, files in os.walk(path):\n",
    "    for name in files:\n",
    "        with open(os.path.join(root, name), 'r') as f:\n",
    "            link = f.readline().strip()\n",
    "            print(link)"
   ]
  },
  {
   "attachments": {},
   "cell_type": "markdown",
   "metadata": {},
   "source": [
    "## Generating dictionary for dataframe"
   ]
  },
  {
   "cell_type": "code",
   "execution_count": 10,
   "metadata": {},
   "outputs": [],
   "source": [
    "# regex to extract the kata ID\n",
    "pattern = re.compile(r'^.*kata/(.*)$')\n",
    "# regex to extract version number\n",
    "revision_pattern = re.compile(r'.*-v(\\d+)-.*')"
   ]
  },
  {
   "cell_type": "code",
   "execution_count": 11,
   "metadata": {},
   "outputs": [
    {
     "data": {
      "text/plain": [
       "[]"
      ]
     },
     "execution_count": 11,
     "metadata": {},
     "output_type": "execute_result"
    }
   ],
   "source": [
    "# Loop through all files to collect kata ID, language and revision numbers\n",
    "data_list = []\n",
    "\n",
    "base_url = \"https://www.codewars.com/kata/\"\n",
    "\n",
    "# Check if dataframe exists\n",
    "dataframe_exists = False\n",
    "if os.path.isfile('codewars.csv'):\n",
    "    dataframe_exists = True\n",
    "\n",
    "# loop through files\n",
    "for root, dirs, files in os.walk(path):\n",
    "    for name in files:\n",
    "        with open(os.path.join(root, name), 'r') as f:\n",
    "            lines = f.readlines()\n",
    "\n",
    "            # extract problem id from first line of file\n",
    "            first_line = lines[0].strip()\n",
    "            problem_id = re.search(pattern, first_line).group(1)\n",
    "            \n",
    "            # extract date from second line of file\n",
    "            date = lines[1].strip()\n",
    "            # remove comment if it exists\n",
    "            date = re.search(r\"^.*?(\\d{4}.*)$\", date).group(1)\n",
    "            date = re.sub(r'T', ' ', date)\n",
    "            date = re.sub(r'\\+\\d{4}', '', date)\n",
    "            \n",
    "            # Before we continue, check if we already have an entry for this kata\n",
    "            # The date will be unique, since it's down to the nearest millisecond\n",
    "            # so we can use that to check\n",
    "            if dataframe_exists and codewars_df[codewars_df['date_time'] == date].shape[0] > 0:\n",
    "                continue\n",
    "            \n",
    "            # construct link\n",
    "            link = base_url + problem_id\n",
    "\n",
    "            # extract language from folder name\n",
    "            language = os.path.basename(root)\n",
    "\n",
    "            # extract revision from file name\n",
    "            match = re.search(revision_pattern, name)\n",
    "            if match:\n",
    "                revision = match.group(1)\n",
    "            else:\n",
    "                revision = 1\n",
    "\n",
    "            # extract solution from file contents\n",
    "            solution = '\\n'.join(lines[2:])\n",
    "\n",
    "            # create dictionary and add to list\n",
    "            data_dict = {\n",
    "                'problem_id': problem_id,\n",
    "                'language': language,\n",
    "                'revision': int(revision),\n",
    "                'solution': solution,\n",
    "                'link': link,\n",
    "                'date_time': date\n",
    "            }\n",
    "            data_list.append(data_dict)\n",
    "\n",
    "data_list"
   ]
  },
  {
   "attachments": {},
   "cell_type": "markdown",
   "metadata": {},
   "source": [
    "### Test Webscrape"
   ]
  },
  {
   "cell_type": "code",
   "execution_count": 12,
   "metadata": {},
   "outputs": [],
   "source": [
    "# Now we can begin scraping\n",
    "# This is just a sample scraping function so we can verify it works\n",
    "# We're limited in what we can scrape without being logged in\n",
    "# So we can't get the description satisfaction information and number of completions per language\n",
    "# If we so desired we could use Selenium to log in and scrape that information\n",
    "\n",
    "# Scrape max 5 problems as a test\n",
    "counter = 5\n",
    "for problem in data_list:\n",
    "    link = problem['link']\n",
    "    response = requests.get(link)\n",
    "    soup = BeautifulSoup.BeautifulSoup(response.text, 'html.parser')\n",
    "    # Difficulty is in a span in a div with class inner-small-hex\n",
    "    difficulty = soup.find('div', {'class': 'inner-small-hex'}).find('span').text\n",
    "    # Get title from the meta tag og:title\n",
    "    title = soup.find('meta', {'property': 'og:title'})['content']\n",
    "    # Find a div with data-id equivalent to the problem_id\n",
    "    extra_info = soup.find('div', {'data-id': problem['problem_id']})\n",
    "    # Extract the number of completions - this is a tuple\n",
    "    completion_count = re.search(r'([\\d+,]+)\\s*(?:of)?\\s*([\\d,]+)?', extra_info.text).groups()\n",
    "    completion_count= int(completion_count[1].replace(',', '')) if completion_count[1] else int(completion_count[0].replace(',', ''))\n",
    "    # Author\n",
    "    author = extra_info.find('a').text\n",
    "    # Tags\n",
    "    # Search the soup for all divs with class keyword-tag\n",
    "    tags = soup.find_all('div', {'class': 'keyword-tag'})\n",
    "    tag_texts = []\n",
    "    for tag in tags:\n",
    "        tag_texts.append(tag.text)\n",
    "        \n",
    "    # Add to problem dictionary\n",
    "    problem['difficulty'] = difficulty\n",
    "    problem['title'] = title\n",
    "    problem['completion_count'] = completion_count\n",
    "    problem['author'] = author\n",
    "    problem['tags'] = tag_texts\n",
    "    \n",
    "    print(problem)\n",
    "    \n",
    "    counter -= 1\n",
    "    if counter == 0:\n",
    "        break"
   ]
  },
  {
   "attachments": {},
   "cell_type": "markdown",
   "metadata": {},
   "source": [
    "### Full Web Scrape"
   ]
  },
  {
   "cell_type": "code",
   "execution_count": 13,
   "metadata": {},
   "outputs": [],
   "source": [
    "# This is a full web scrape of all problems\n",
    "# We limit it to 10s between requests to avoid overloading the server\n",
    "\n",
    "problem_num = 0\n",
    "for problem in data_list:\n",
    "    problem_num += 1\n",
    "    # We should first check if the problem has already been scraped e.g. by the test scraper\n",
    "    # There won't be a difficulty attribute if it hasn't been scraped\n",
    "    if 'difficulty' in problem:\n",
    "        continue\n",
    "    \n",
    "    link = problem['link']\n",
    "    print(\"Scraping problem {} of {}\".format(problem_num, len(data_list)))\n",
    "    print(\"Link: \" + link)\n",
    "    response = requests.get(link)\n",
    "    soup = BeautifulSoup.BeautifulSoup(response.text, 'html.parser')\n",
    "    # Difficulty is in a span in a div with class inner-small-hex\n",
    "    difficulty = soup.find('div', {'class': 'inner-small-hex'}).find('span').text\n",
    "    # Get title from the meta tag og:title\n",
    "    title = soup.find('meta', {'property': 'og:title'})['content']\n",
    "    # Find a div with data-id equivalent to the problem_id\n",
    "    extra_info = soup.find('div', {'data-id': problem['problem_id']})\n",
    "    # Extract the number of completions - this is a tuple\n",
    "    completion_count = re.search(r'([\\d+,]+)\\s*(?:of)?\\s*([\\d,]+)?', extra_info.text).groups()\n",
    "    completion_count= int(completion_count[1].replace(',', '')) if completion_count[1] else int(completion_count[0].replace(',', ''))\n",
    "    # Author\n",
    "    author = extra_info.find('a')\n",
    "    if author:\n",
    "        author = author.text\n",
    "    else:\n",
    "        author = \"\"\n",
    "    # Tags\n",
    "    # Search the soup for all divs with class keyword-tag\n",
    "    tags = soup.find_all('div', {'class': 'keyword-tag'})\n",
    "    tag_texts = []\n",
    "    for tag in tags:\n",
    "        tag_texts.append(tag.text)\n",
    "        \n",
    "    # Add to problem dictionary\n",
    "    problem['difficulty'] = difficulty\n",
    "    problem['title'] = title\n",
    "    problem['completion_count'] = completion_count\n",
    "    problem['author'] = author\n",
    "    problem['tags'] = tag_texts\n",
    "    \n",
    "    \n",
    "    # Add a sleep time to avoid being blocked\n",
    "    sleep(10)"
   ]
  },
  {
   "attachments": {},
   "cell_type": "markdown",
   "metadata": {},
   "source": [
    "### Store Data in Dataframe\n",
    "Note the dataframe name. This is because codewars_df may already exist\n",
    "We with to only append new data"
   ]
  },
  {
   "cell_type": "code",
   "execution_count": 14,
   "metadata": {},
   "outputs": [
    {
     "data": {
      "text/html": [
       "<div>\n",
       "<style scoped>\n",
       "    .dataframe tbody tr th:only-of-type {\n",
       "        vertical-align: middle;\n",
       "    }\n",
       "\n",
       "    .dataframe tbody tr th {\n",
       "        vertical-align: top;\n",
       "    }\n",
       "\n",
       "    .dataframe thead th {\n",
       "        text-align: right;\n",
       "    }\n",
       "</style>\n",
       "<table border=\"1\" class=\"dataframe\">\n",
       "  <thead>\n",
       "    <tr style=\"text-align: right;\">\n",
       "      <th></th>\n",
       "    </tr>\n",
       "  </thead>\n",
       "  <tbody>\n",
       "  </tbody>\n",
       "</table>\n",
       "</div>"
      ],
      "text/plain": [
       "Empty DataFrame\n",
       "Columns: []\n",
       "Index: []"
      ]
     },
     "execution_count": 14,
     "metadata": {},
     "output_type": "execute_result"
    }
   ],
   "source": [
    "# Now we have some new data, let's make a dataframe\n",
    "new_codewars_df = pd.DataFrame(data_list)\n",
    "new_codewars_df.head()"
   ]
  },
  {
   "cell_type": "code",
   "execution_count": 15,
   "metadata": {},
   "outputs": [
    {
     "data": {
      "text/plain": [
       "(0, 0)"
      ]
     },
     "execution_count": 15,
     "metadata": {},
     "output_type": "execute_result"
    }
   ],
   "source": [
    "new_codewars_df.shape"
   ]
  },
  {
   "cell_type": "code",
   "execution_count": 16,
   "metadata": {},
   "outputs": [
    {
     "data": {
      "text/html": [
       "<div>\n",
       "<style scoped>\n",
       "    .dataframe tbody tr th:only-of-type {\n",
       "        vertical-align: middle;\n",
       "    }\n",
       "\n",
       "    .dataframe tbody tr th {\n",
       "        vertical-align: top;\n",
       "    }\n",
       "\n",
       "    .dataframe thead th {\n",
       "        text-align: right;\n",
       "    }\n",
       "</style>\n",
       "<table border=\"1\" class=\"dataframe\">\n",
       "  <thead>\n",
       "    <tr style=\"text-align: right;\">\n",
       "      <th></th>\n",
       "    </tr>\n",
       "  </thead>\n",
       "  <tbody>\n",
       "  </tbody>\n",
       "</table>\n",
       "</div>"
      ],
      "text/plain": [
       "Empty DataFrame\n",
       "Columns: []\n",
       "Index: []"
      ]
     },
     "execution_count": 16,
     "metadata": {},
     "output_type": "execute_result"
    }
   ],
   "source": [
    "new_codewars_df.tail()"
   ]
  },
  {
   "cell_type": "code",
   "execution_count": 17,
   "metadata": {},
   "outputs": [],
   "source": [
    "# Completion count should be an integer\n",
    "if new_codewars_df.shape[0] > 0:\n",
    "    new_codewars_df['completion_count'] = new_codewars_df['completion_count'].astype(int)"
   ]
  },
  {
   "attachments": {},
   "cell_type": "markdown",
   "metadata": {},
   "source": [
    "### Append New Data to Stored Dataframe\n",
    "If the dataframe existed before we started, we may have scraped new data to append"
   ]
  },
  {
   "cell_type": "code",
   "execution_count": 18,
   "metadata": {},
   "outputs": [
    {
     "name": "stderr",
     "output_type": "stream",
     "text": [
      "/tmp/ipykernel_26681/1390956106.py:4: FutureWarning: The frame.append method is deprecated and will be removed from pandas in a future version. Use pandas.concat instead.\n",
      "  codewars_df = codewars_df.append(new_codewars_df, ignore_index=True)\n"
     ]
    }
   ],
   "source": [
    "# Append new data to the end of the old dataframe\n",
    "# We need to check the df exists first incase this is the first scrape\n",
    "if 'codewars_df' in locals():\n",
    "    codewars_df = codewars_df.append(new_codewars_df, ignore_index=True)\n",
    "else:\n",
    "    codewars_df = new_codewars_df\n",
    "\n",
    "# Free up some memory since it's now stored twice\n",
    "del new_codewars_df"
   ]
  },
  {
   "cell_type": "code",
   "execution_count": 19,
   "metadata": {},
   "outputs": [
    {
     "data": {
      "text/html": [
       "<div>\n",
       "<style scoped>\n",
       "    .dataframe tbody tr th:only-of-type {\n",
       "        vertical-align: middle;\n",
       "    }\n",
       "\n",
       "    .dataframe tbody tr th {\n",
       "        vertical-align: top;\n",
       "    }\n",
       "\n",
       "    .dataframe thead th {\n",
       "        text-align: right;\n",
       "    }\n",
       "</style>\n",
       "<table border=\"1\" class=\"dataframe\">\n",
       "  <thead>\n",
       "    <tr style=\"text-align: right;\">\n",
       "      <th></th>\n",
       "      <th>problem_id</th>\n",
       "      <th>language</th>\n",
       "      <th>revision</th>\n",
       "      <th>solution</th>\n",
       "      <th>link</th>\n",
       "      <th>date_time</th>\n",
       "      <th>difficulty</th>\n",
       "      <th>title</th>\n",
       "      <th>completion_count</th>\n",
       "      <th>author</th>\n",
       "      <th>tags</th>\n",
       "    </tr>\n",
       "  </thead>\n",
       "  <tbody>\n",
       "    <tr>\n",
       "      <th>0</th>\n",
       "      <td>58ce8725c835848ad6000007</td>\n",
       "      <td>Shell</td>\n",
       "      <td>1</td>\n",
       "      <td>#!/bin/bash\\n\\npi=$1\\n\\nw=$2\\n\\npf=$3\\n\\n\\n\\ne...</td>\n",
       "      <td>https://www.codewars.com/kata/58ce8725c835848a...</td>\n",
       "      <td>2023-04-08 15:13:48.626</td>\n",
       "      <td>7 kyu</td>\n",
       "      <td>Drying Potatoes</td>\n",
       "      <td>9448</td>\n",
       "      <td>g964</td>\n",
       "      <td>['Fundamentals', 'Puzzles']</td>\n",
       "    </tr>\n",
       "    <tr>\n",
       "      <th>1</th>\n",
       "      <td>56bc28ad5bdaeb48760009b0</td>\n",
       "      <td>Shell</td>\n",
       "      <td>1</td>\n",
       "      <td>function removeChar() {\\n\\n  local str=$1\\n\\n ...</td>\n",
       "      <td>https://www.codewars.com/kata/56bc28ad5bdaeb48...</td>\n",
       "      <td>2023-03-27 11:00:44.662</td>\n",
       "      <td>8 kyu</td>\n",
       "      <td>Remove First and Last Character</td>\n",
       "      <td>215262</td>\n",
       "      <td>Steadyx</td>\n",
       "      <td>['Strings', 'Fundamentals']</td>\n",
       "    </tr>\n",
       "    <tr>\n",
       "      <th>2</th>\n",
       "      <td>59bfe5f15227ddf81900007b</td>\n",
       "      <td>Shell</td>\n",
       "      <td>1</td>\n",
       "      <td>ls -t | head -n 1</td>\n",
       "      <td>https://www.codewars.com/kata/59bfe5f15227ddf8...</td>\n",
       "      <td>2023-04-08 15:20:55.441</td>\n",
       "      <td>7 kyu</td>\n",
       "      <td>Return the latest modified file</td>\n",
       "      <td>327</td>\n",
       "      <td>ddellaquila</td>\n",
       "      <td>['Fundamentals']</td>\n",
       "    </tr>\n",
       "    <tr>\n",
       "      <th>3</th>\n",
       "      <td>582cb0224e56e068d800003c</td>\n",
       "      <td>Shell</td>\n",
       "      <td>1</td>\n",
       "      <td>def litres(time):\\n\\n    return (time * 0.5)//1</td>\n",
       "      <td>https://www.codewars.com/kata/582cb0224e56e068...</td>\n",
       "      <td>2023-04-17 18:06:43.289</td>\n",
       "      <td>8 kyu</td>\n",
       "      <td>Keep Hydrated!</td>\n",
       "      <td>154528</td>\n",
       "      <td>paulrichard</td>\n",
       "      <td>['Algorithms', 'Mathematics', 'Fundamentals']</td>\n",
       "    </tr>\n",
       "    <tr>\n",
       "      <th>4</th>\n",
       "      <td>563a631f7cbbc236cf0000c2</td>\n",
       "      <td>Shell</td>\n",
       "      <td>1</td>\n",
       "      <td>position=$1\\n\\nroll=$2\\n\\n# your code here\\n\\n...</td>\n",
       "      <td>https://www.codewars.com/kata/563a631f7cbbc236...</td>\n",
       "      <td>2023-03-31 06:07:28.588</td>\n",
       "      <td>8 kyu</td>\n",
       "      <td>Grasshopper - Terminal game move function</td>\n",
       "      <td>44795</td>\n",
       "      <td>danleavitt0</td>\n",
       "      <td>['Fundamentals']</td>\n",
       "    </tr>\n",
       "  </tbody>\n",
       "</table>\n",
       "</div>"
      ],
      "text/plain": [
       "                 problem_id language  revision  \\\n",
       "0  58ce8725c835848ad6000007    Shell         1   \n",
       "1  56bc28ad5bdaeb48760009b0    Shell         1   \n",
       "2  59bfe5f15227ddf81900007b    Shell         1   \n",
       "3  582cb0224e56e068d800003c    Shell         1   \n",
       "4  563a631f7cbbc236cf0000c2    Shell         1   \n",
       "\n",
       "                                            solution  \\\n",
       "0  #!/bin/bash\\n\\npi=$1\\n\\nw=$2\\n\\npf=$3\\n\\n\\n\\ne...   \n",
       "1  function removeChar() {\\n\\n  local str=$1\\n\\n ...   \n",
       "2                                  ls -t | head -n 1   \n",
       "3    def litres(time):\\n\\n    return (time * 0.5)//1   \n",
       "4  position=$1\\n\\nroll=$2\\n\\n# your code here\\n\\n...   \n",
       "\n",
       "                                                link                date_time  \\\n",
       "0  https://www.codewars.com/kata/58ce8725c835848a...  2023-04-08 15:13:48.626   \n",
       "1  https://www.codewars.com/kata/56bc28ad5bdaeb48...  2023-03-27 11:00:44.662   \n",
       "2  https://www.codewars.com/kata/59bfe5f15227ddf8...  2023-04-08 15:20:55.441   \n",
       "3  https://www.codewars.com/kata/582cb0224e56e068...  2023-04-17 18:06:43.289   \n",
       "4  https://www.codewars.com/kata/563a631f7cbbc236...  2023-03-31 06:07:28.588   \n",
       "\n",
       "  difficulty                                      title  completion_count  \\\n",
       "0      7 kyu                            Drying Potatoes              9448   \n",
       "1      8 kyu            Remove First and Last Character            215262   \n",
       "2      7 kyu            Return the latest modified file               327   \n",
       "3      8 kyu                             Keep Hydrated!            154528   \n",
       "4      8 kyu  Grasshopper - Terminal game move function             44795   \n",
       "\n",
       "        author                                           tags  \n",
       "0         g964                    ['Fundamentals', 'Puzzles']  \n",
       "1      Steadyx                    ['Strings', 'Fundamentals']  \n",
       "2  ddellaquila                               ['Fundamentals']  \n",
       "3  paulrichard  ['Algorithms', 'Mathematics', 'Fundamentals']  \n",
       "4  danleavitt0                               ['Fundamentals']  "
      ]
     },
     "execution_count": 19,
     "metadata": {},
     "output_type": "execute_result"
    }
   ],
   "source": [
    "codewars_df.head()"
   ]
  },
  {
   "cell_type": "code",
   "execution_count": 20,
   "metadata": {},
   "outputs": [
    {
     "data": {
      "text/plain": [
       "(292, 11)"
      ]
     },
     "execution_count": 20,
     "metadata": {},
     "output_type": "execute_result"
    }
   ],
   "source": [
    "codewars_df.shape"
   ]
  },
  {
   "attachments": {},
   "cell_type": "markdown",
   "metadata": {},
   "source": [
    "### Save Dataframe as CSV"
   ]
  },
  {
   "cell_type": "code",
   "execution_count": 21,
   "metadata": {},
   "outputs": [],
   "source": [
    "# Save dataframe to csv\n",
    "codewars_df.to_csv('codewars.csv', index=False)\n",
    "\n",
    "# Due to some inconsistencies in how data is saved vs loaded, we need to reload the CSV\n",
    "codewars_df = pd.read_csv('codewars.csv')"
   ]
  },
  {
   "attachments": {},
   "cell_type": "markdown",
   "metadata": {},
   "source": [
    "### Inspect Dataframe"
   ]
  },
  {
   "cell_type": "code",
   "execution_count": 22,
   "metadata": {},
   "outputs": [
    {
     "data": {
      "text/html": [
       "<div>\n",
       "<style scoped>\n",
       "    .dataframe tbody tr th:only-of-type {\n",
       "        vertical-align: middle;\n",
       "    }\n",
       "\n",
       "    .dataframe tbody tr th {\n",
       "        vertical-align: top;\n",
       "    }\n",
       "\n",
       "    .dataframe thead th {\n",
       "        text-align: right;\n",
       "    }\n",
       "</style>\n",
       "<table border=\"1\" class=\"dataframe\">\n",
       "  <thead>\n",
       "    <tr style=\"text-align: right;\">\n",
       "      <th></th>\n",
       "      <th>problem_id</th>\n",
       "      <th>language</th>\n",
       "      <th>revision</th>\n",
       "      <th>solution</th>\n",
       "      <th>link</th>\n",
       "      <th>date_time</th>\n",
       "      <th>difficulty</th>\n",
       "      <th>title</th>\n",
       "      <th>completion_count</th>\n",
       "      <th>author</th>\n",
       "      <th>tags</th>\n",
       "    </tr>\n",
       "  </thead>\n",
       "  <tbody>\n",
       "    <tr>\n",
       "      <th>0</th>\n",
       "      <td>58ce8725c835848ad6000007</td>\n",
       "      <td>Shell</td>\n",
       "      <td>1</td>\n",
       "      <td>#!/bin/bash\\n\\npi=$1\\n\\nw=$2\\n\\npf=$3\\n\\n\\n\\ne...</td>\n",
       "      <td>https://www.codewars.com/kata/58ce8725c835848a...</td>\n",
       "      <td>2023-04-08 15:13:48.626</td>\n",
       "      <td>7 kyu</td>\n",
       "      <td>Drying Potatoes</td>\n",
       "      <td>9448</td>\n",
       "      <td>g964</td>\n",
       "      <td>['Fundamentals', 'Puzzles']</td>\n",
       "    </tr>\n",
       "    <tr>\n",
       "      <th>1</th>\n",
       "      <td>56bc28ad5bdaeb48760009b0</td>\n",
       "      <td>Shell</td>\n",
       "      <td>1</td>\n",
       "      <td>function removeChar() {\\n\\n  local str=$1\\n\\n ...</td>\n",
       "      <td>https://www.codewars.com/kata/56bc28ad5bdaeb48...</td>\n",
       "      <td>2023-03-27 11:00:44.662</td>\n",
       "      <td>8 kyu</td>\n",
       "      <td>Remove First and Last Character</td>\n",
       "      <td>215262</td>\n",
       "      <td>Steadyx</td>\n",
       "      <td>['Strings', 'Fundamentals']</td>\n",
       "    </tr>\n",
       "    <tr>\n",
       "      <th>2</th>\n",
       "      <td>59bfe5f15227ddf81900007b</td>\n",
       "      <td>Shell</td>\n",
       "      <td>1</td>\n",
       "      <td>ls -t | head -n 1</td>\n",
       "      <td>https://www.codewars.com/kata/59bfe5f15227ddf8...</td>\n",
       "      <td>2023-04-08 15:20:55.441</td>\n",
       "      <td>7 kyu</td>\n",
       "      <td>Return the latest modified file</td>\n",
       "      <td>327</td>\n",
       "      <td>ddellaquila</td>\n",
       "      <td>['Fundamentals']</td>\n",
       "    </tr>\n",
       "    <tr>\n",
       "      <th>3</th>\n",
       "      <td>582cb0224e56e068d800003c</td>\n",
       "      <td>Shell</td>\n",
       "      <td>1</td>\n",
       "      <td>def litres(time):\\n\\n    return (time * 0.5)//1</td>\n",
       "      <td>https://www.codewars.com/kata/582cb0224e56e068...</td>\n",
       "      <td>2023-04-17 18:06:43.289</td>\n",
       "      <td>8 kyu</td>\n",
       "      <td>Keep Hydrated!</td>\n",
       "      <td>154528</td>\n",
       "      <td>paulrichard</td>\n",
       "      <td>['Algorithms', 'Mathematics', 'Fundamentals']</td>\n",
       "    </tr>\n",
       "    <tr>\n",
       "      <th>4</th>\n",
       "      <td>563a631f7cbbc236cf0000c2</td>\n",
       "      <td>Shell</td>\n",
       "      <td>1</td>\n",
       "      <td>position=$1\\n\\nroll=$2\\n\\n# your code here\\n\\n...</td>\n",
       "      <td>https://www.codewars.com/kata/563a631f7cbbc236...</td>\n",
       "      <td>2023-03-31 06:07:28.588</td>\n",
       "      <td>8 kyu</td>\n",
       "      <td>Grasshopper - Terminal game move function</td>\n",
       "      <td>44795</td>\n",
       "      <td>danleavitt0</td>\n",
       "      <td>['Fundamentals']</td>\n",
       "    </tr>\n",
       "  </tbody>\n",
       "</table>\n",
       "</div>"
      ],
      "text/plain": [
       "                 problem_id language  revision  \\\n",
       "0  58ce8725c835848ad6000007    Shell         1   \n",
       "1  56bc28ad5bdaeb48760009b0    Shell         1   \n",
       "2  59bfe5f15227ddf81900007b    Shell         1   \n",
       "3  582cb0224e56e068d800003c    Shell         1   \n",
       "4  563a631f7cbbc236cf0000c2    Shell         1   \n",
       "\n",
       "                                            solution  \\\n",
       "0  #!/bin/bash\\n\\npi=$1\\n\\nw=$2\\n\\npf=$3\\n\\n\\n\\ne...   \n",
       "1  function removeChar() {\\n\\n  local str=$1\\n\\n ...   \n",
       "2                                  ls -t | head -n 1   \n",
       "3    def litres(time):\\n\\n    return (time * 0.5)//1   \n",
       "4  position=$1\\n\\nroll=$2\\n\\n# your code here\\n\\n...   \n",
       "\n",
       "                                                link                date_time  \\\n",
       "0  https://www.codewars.com/kata/58ce8725c835848a...  2023-04-08 15:13:48.626   \n",
       "1  https://www.codewars.com/kata/56bc28ad5bdaeb48...  2023-03-27 11:00:44.662   \n",
       "2  https://www.codewars.com/kata/59bfe5f15227ddf8...  2023-04-08 15:20:55.441   \n",
       "3  https://www.codewars.com/kata/582cb0224e56e068...  2023-04-17 18:06:43.289   \n",
       "4  https://www.codewars.com/kata/563a631f7cbbc236...  2023-03-31 06:07:28.588   \n",
       "\n",
       "  difficulty                                      title  completion_count  \\\n",
       "0      7 kyu                            Drying Potatoes              9448   \n",
       "1      8 kyu            Remove First and Last Character            215262   \n",
       "2      7 kyu            Return the latest modified file               327   \n",
       "3      8 kyu                             Keep Hydrated!            154528   \n",
       "4      8 kyu  Grasshopper - Terminal game move function             44795   \n",
       "\n",
       "        author                                           tags  \n",
       "0         g964                    ['Fundamentals', 'Puzzles']  \n",
       "1      Steadyx                    ['Strings', 'Fundamentals']  \n",
       "2  ddellaquila                               ['Fundamentals']  \n",
       "3  paulrichard  ['Algorithms', 'Mathematics', 'Fundamentals']  \n",
       "4  danleavitt0                               ['Fundamentals']  "
      ]
     },
     "execution_count": 22,
     "metadata": {},
     "output_type": "execute_result"
    }
   ],
   "source": [
    "codewars_df.head()"
   ]
  },
  {
   "cell_type": "code",
   "execution_count": 23,
   "metadata": {},
   "outputs": [
    {
     "data": {
      "text/html": [
       "<div>\n",
       "<style scoped>\n",
       "    .dataframe tbody tr th:only-of-type {\n",
       "        vertical-align: middle;\n",
       "    }\n",
       "\n",
       "    .dataframe tbody tr th {\n",
       "        vertical-align: top;\n",
       "    }\n",
       "\n",
       "    .dataframe thead th {\n",
       "        text-align: right;\n",
       "    }\n",
       "</style>\n",
       "<table border=\"1\" class=\"dataframe\">\n",
       "  <thead>\n",
       "    <tr style=\"text-align: right;\">\n",
       "      <th></th>\n",
       "      <th>problem_id</th>\n",
       "      <th>language</th>\n",
       "      <th>revision</th>\n",
       "      <th>solution</th>\n",
       "      <th>link</th>\n",
       "      <th>date_time</th>\n",
       "      <th>difficulty</th>\n",
       "      <th>title</th>\n",
       "      <th>completion_count</th>\n",
       "      <th>author</th>\n",
       "      <th>tags</th>\n",
       "    </tr>\n",
       "  </thead>\n",
       "  <tbody>\n",
       "    <tr>\n",
       "      <th>287</th>\n",
       "      <td>596f7ec359f9e9b017000006</td>\n",
       "      <td>BF</td>\n",
       "      <td>1</td>\n",
       "      <td>,&gt;,[&lt;.&gt;-]</td>\n",
       "      <td>https://www.codewars.com/kata/596f7ec359f9e9b0...</td>\n",
       "      <td>2023-05-15 08:02:43.256</td>\n",
       "      <td>7 kyu</td>\n",
       "      <td>BF basics #2: Repeat the input</td>\n",
       "      <td>381</td>\n",
       "      <td>ice1000</td>\n",
       "      <td>['Fundamentals']</td>\n",
       "    </tr>\n",
       "    <tr>\n",
       "      <th>288</th>\n",
       "      <td>596f80b5f468ae8daa000013</td>\n",
       "      <td>BF</td>\n",
       "      <td>1</td>\n",
       "      <td>.+[.+]</td>\n",
       "      <td>https://www.codewars.com/kata/596f80b5f468ae8d...</td>\n",
       "      <td>2023-05-15 08:04:13.013</td>\n",
       "      <td>7 kyu</td>\n",
       "      <td>BF basics #1: All ascii characters</td>\n",
       "      <td>454</td>\n",
       "      <td>ice1000</td>\n",
       "      <td>['Fundamentals']</td>\n",
       "    </tr>\n",
       "    <tr>\n",
       "      <th>289</th>\n",
       "      <td>596f7d99f468ae8daa00000b</td>\n",
       "      <td>BF</td>\n",
       "      <td>1</td>\n",
       "      <td>++++&gt;+++++++[&lt;++++&gt;-]++&gt;+++++&gt;+++++[&lt;++++++&gt;-]...</td>\n",
       "      <td>https://www.codewars.com/kata/596f7d99f468ae8d...</td>\n",
       "      <td>2023-05-15 07:54:40.541</td>\n",
       "      <td>7 kyu</td>\n",
       "      <td>BF basics #0: Hello World</td>\n",
       "      <td>420</td>\n",
       "      <td>ice1000</td>\n",
       "      <td>['Fundamentals', 'Mathematics']</td>\n",
       "    </tr>\n",
       "    <tr>\n",
       "      <th>290</th>\n",
       "      <td>596f88f359f9e99030000012</td>\n",
       "      <td>BF</td>\n",
       "      <td>1</td>\n",
       "      <td>,&gt;,[&lt;+&gt;-]&lt;.</td>\n",
       "      <td>https://www.codewars.com/kata/596f88f359f9e990...</td>\n",
       "      <td>2023-05-15 09:35:43.460</td>\n",
       "      <td>7 kyu</td>\n",
       "      <td>BF basics #3: Plusing</td>\n",
       "      <td>383</td>\n",
       "      <td>ice1000</td>\n",
       "      <td>['Fundamentals', 'Mathematics']</td>\n",
       "    </tr>\n",
       "    <tr>\n",
       "      <th>291</th>\n",
       "      <td>5a79601b373c2e3b4a00013c</td>\n",
       "      <td>BF</td>\n",
       "      <td>1</td>\n",
       "      <td>++++++&gt;++++++[&lt;++++++&gt;-]\\n\\n,[&lt;.&gt;,]</td>\n",
       "      <td>https://www.codewars.com/kata/5a79601b373c2e3b...</td>\n",
       "      <td>2023-05-15 08:09:03.498</td>\n",
       "      <td>7 kyu</td>\n",
       "      <td>[BF] Hide the Password</td>\n",
       "      <td>224</td>\n",
       "      <td>iNont</td>\n",
       "      <td>['Fundamentals', 'Algorithms', 'Strings']</td>\n",
       "    </tr>\n",
       "  </tbody>\n",
       "</table>\n",
       "</div>"
      ],
      "text/plain": [
       "                   problem_id language  revision  \\\n",
       "287  596f7ec359f9e9b017000006       BF         1   \n",
       "288  596f80b5f468ae8daa000013       BF         1   \n",
       "289  596f7d99f468ae8daa00000b       BF         1   \n",
       "290  596f88f359f9e99030000012       BF         1   \n",
       "291  5a79601b373c2e3b4a00013c       BF         1   \n",
       "\n",
       "                                              solution  \\\n",
       "287                                          ,>,[<.>-]   \n",
       "288                                             .+[.+]   \n",
       "289  ++++>+++++++[<++++>-]++>+++++>+++++[<++++++>-]...   \n",
       "290                                        ,>,[<+>-]<.   \n",
       "291                ++++++>++++++[<++++++>-]\\n\\n,[<.>,]   \n",
       "\n",
       "                                                  link  \\\n",
       "287  https://www.codewars.com/kata/596f7ec359f9e9b0...   \n",
       "288  https://www.codewars.com/kata/596f80b5f468ae8d...   \n",
       "289  https://www.codewars.com/kata/596f7d99f468ae8d...   \n",
       "290  https://www.codewars.com/kata/596f88f359f9e990...   \n",
       "291  https://www.codewars.com/kata/5a79601b373c2e3b...   \n",
       "\n",
       "                   date_time difficulty                               title  \\\n",
       "287  2023-05-15 08:02:43.256      7 kyu      BF basics #2: Repeat the input   \n",
       "288  2023-05-15 08:04:13.013      7 kyu  BF basics #1: All ascii characters   \n",
       "289  2023-05-15 07:54:40.541      7 kyu           BF basics #0: Hello World   \n",
       "290  2023-05-15 09:35:43.460      7 kyu               BF basics #3: Plusing   \n",
       "291  2023-05-15 08:09:03.498      7 kyu              [BF] Hide the Password   \n",
       "\n",
       "     completion_count   author                                       tags  \n",
       "287               381  ice1000                           ['Fundamentals']  \n",
       "288               454  ice1000                           ['Fundamentals']  \n",
       "289               420  ice1000            ['Fundamentals', 'Mathematics']  \n",
       "290               383  ice1000            ['Fundamentals', 'Mathematics']  \n",
       "291               224    iNont  ['Fundamentals', 'Algorithms', 'Strings']  "
      ]
     },
     "execution_count": 23,
     "metadata": {},
     "output_type": "execute_result"
    }
   ],
   "source": [
    "codewars_df.tail()"
   ]
  },
  {
   "cell_type": "code",
   "execution_count": 24,
   "metadata": {},
   "outputs": [
    {
     "data": {
      "text/plain": [
       "(292, 11)"
      ]
     },
     "execution_count": 24,
     "metadata": {},
     "output_type": "execute_result"
    }
   ],
   "source": [
    "codewars_df.shape"
   ]
  },
  {
   "cell_type": "code",
   "execution_count": 25,
   "metadata": {},
   "outputs": [
    {
     "name": "stdout",
     "output_type": "stream",
     "text": [
      "<class 'pandas.core.frame.DataFrame'>\n",
      "RangeIndex: 292 entries, 0 to 291\n",
      "Data columns (total 11 columns):\n",
      " #   Column            Non-Null Count  Dtype \n",
      "---  ------            --------------  ----- \n",
      " 0   problem_id        292 non-null    object\n",
      " 1   language          292 non-null    object\n",
      " 2   revision          292 non-null    int64 \n",
      " 3   solution          292 non-null    object\n",
      " 4   link              292 non-null    object\n",
      " 5   date_time         292 non-null    object\n",
      " 6   difficulty        292 non-null    object\n",
      " 7   title             292 non-null    object\n",
      " 8   completion_count  292 non-null    int64 \n",
      " 9   author            291 non-null    object\n",
      " 10  tags              292 non-null    object\n",
      "dtypes: int64(2), object(9)\n",
      "memory usage: 25.2+ KB\n"
     ]
    }
   ],
   "source": [
    "codewars_df.info()"
   ]
  },
  {
   "cell_type": "code",
   "execution_count": 26,
   "metadata": {},
   "outputs": [
    {
     "data": {
      "text/plain": [
       "problem_id          object\n",
       "language            object\n",
       "revision             int64\n",
       "solution            object\n",
       "link                object\n",
       "date_time           object\n",
       "difficulty          object\n",
       "title               object\n",
       "completion_count     int64\n",
       "author              object\n",
       "tags                object\n",
       "dtype: object"
      ]
     },
     "execution_count": 26,
     "metadata": {},
     "output_type": "execute_result"
    }
   ],
   "source": [
    "codewars_df.dtypes"
   ]
  },
  {
   "cell_type": "code",
   "execution_count": 27,
   "metadata": {},
   "outputs": [],
   "source": [
    "# Set the date_time column to datetime\n",
    "codewars_df['date_time'] = pd.to_datetime(codewars_df['date_time'])"
   ]
  },
  {
   "cell_type": "code",
   "execution_count": 28,
   "metadata": {},
   "outputs": [
    {
     "data": {
      "text/plain": [
       "problem_id                  object\n",
       "language                    object\n",
       "revision                     int64\n",
       "solution                    object\n",
       "link                        object\n",
       "date_time           datetime64[ns]\n",
       "difficulty                  object\n",
       "title                       object\n",
       "completion_count             int64\n",
       "author                      object\n",
       "tags                        object\n",
       "dtype: object"
      ]
     },
     "execution_count": 28,
     "metadata": {},
     "output_type": "execute_result"
    }
   ],
   "source": [
    "codewars_df.dtypes"
   ]
  },
  {
   "cell_type": "code",
   "execution_count": 29,
   "metadata": {},
   "outputs": [
    {
     "data": {
      "text/html": [
       "<div>\n",
       "<style scoped>\n",
       "    .dataframe tbody tr th:only-of-type {\n",
       "        vertical-align: middle;\n",
       "    }\n",
       "\n",
       "    .dataframe tbody tr th {\n",
       "        vertical-align: top;\n",
       "    }\n",
       "\n",
       "    .dataframe thead th {\n",
       "        text-align: right;\n",
       "    }\n",
       "</style>\n",
       "<table border=\"1\" class=\"dataframe\">\n",
       "  <thead>\n",
       "    <tr style=\"text-align: right;\">\n",
       "      <th></th>\n",
       "      <th>problem_id</th>\n",
       "      <th>language</th>\n",
       "      <th>revision</th>\n",
       "      <th>solution</th>\n",
       "      <th>link</th>\n",
       "      <th>date_time</th>\n",
       "      <th>difficulty</th>\n",
       "      <th>title</th>\n",
       "      <th>completion_count</th>\n",
       "      <th>author</th>\n",
       "      <th>tags</th>\n",
       "    </tr>\n",
       "  </thead>\n",
       "  <tbody>\n",
       "    <tr>\n",
       "      <th>93</th>\n",
       "      <td>50654ddff44f800200000004</td>\n",
       "      <td>Python</td>\n",
       "      <td>1</td>\n",
       "      <td>def multiply(a, b):\\n\\n    return a * b</td>\n",
       "      <td>https://www.codewars.com/kata/50654ddff44f8002...</td>\n",
       "      <td>2023-03-07 19:01:20.838</td>\n",
       "      <td>8 kyu</td>\n",
       "      <td>Multiply</td>\n",
       "      <td>5475116</td>\n",
       "      <td>NaN</td>\n",
       "      <td>['Debugging', 'Fundamentals']</td>\n",
       "    </tr>\n",
       "  </tbody>\n",
       "</table>\n",
       "</div>"
      ],
      "text/plain": [
       "                  problem_id language  revision  \\\n",
       "93  50654ddff44f800200000004   Python         1   \n",
       "\n",
       "                                   solution  \\\n",
       "93  def multiply(a, b):\\n\\n    return a * b   \n",
       "\n",
       "                                                 link               date_time  \\\n",
       "93  https://www.codewars.com/kata/50654ddff44f8002... 2023-03-07 19:01:20.838   \n",
       "\n",
       "   difficulty     title  completion_count author  \\\n",
       "93      8 kyu  Multiply           5475116    NaN   \n",
       "\n",
       "                             tags  \n",
       "93  ['Debugging', 'Fundamentals']  "
      ]
     },
     "execution_count": 29,
     "metadata": {},
     "output_type": "execute_result"
    }
   ],
   "source": [
    "# Check how many invalid authors there are\n",
    "codewars_df[(codewars_df['author'] == '') | (codewars_df['author'].isnull())]"
   ]
  },
  {
   "cell_type": "code",
   "execution_count": 30,
   "metadata": {},
   "outputs": [
    {
     "data": {
      "text/html": [
       "<div>\n",
       "<style scoped>\n",
       "    .dataframe tbody tr th:only-of-type {\n",
       "        vertical-align: middle;\n",
       "    }\n",
       "\n",
       "    .dataframe tbody tr th {\n",
       "        vertical-align: top;\n",
       "    }\n",
       "\n",
       "    .dataframe thead th {\n",
       "        text-align: right;\n",
       "    }\n",
       "</style>\n",
       "<table border=\"1\" class=\"dataframe\">\n",
       "  <thead>\n",
       "    <tr style=\"text-align: right;\">\n",
       "      <th></th>\n",
       "      <th>revision</th>\n",
       "      <th>completion_count</th>\n",
       "    </tr>\n",
       "  </thead>\n",
       "  <tbody>\n",
       "    <tr>\n",
       "      <th>count</th>\n",
       "      <td>292.000000</td>\n",
       "      <td>2.920000e+02</td>\n",
       "    </tr>\n",
       "    <tr>\n",
       "      <th>mean</th>\n",
       "      <td>1.106164</td>\n",
       "      <td>1.010801e+05</td>\n",
       "    </tr>\n",
       "    <tr>\n",
       "      <th>std</th>\n",
       "      <td>0.330099</td>\n",
       "      <td>3.266703e+05</td>\n",
       "    </tr>\n",
       "    <tr>\n",
       "      <th>min</th>\n",
       "      <td>1.000000</td>\n",
       "      <td>2.900000e+01</td>\n",
       "    </tr>\n",
       "    <tr>\n",
       "      <th>25%</th>\n",
       "      <td>1.000000</td>\n",
       "      <td>1.868500e+04</td>\n",
       "    </tr>\n",
       "    <tr>\n",
       "      <th>50%</th>\n",
       "      <td>1.000000</td>\n",
       "      <td>6.240300e+04</td>\n",
       "    </tr>\n",
       "    <tr>\n",
       "      <th>75%</th>\n",
       "      <td>1.000000</td>\n",
       "      <td>1.279760e+05</td>\n",
       "    </tr>\n",
       "    <tr>\n",
       "      <th>max</th>\n",
       "      <td>3.000000</td>\n",
       "      <td>5.475116e+06</td>\n",
       "    </tr>\n",
       "  </tbody>\n",
       "</table>\n",
       "</div>"
      ],
      "text/plain": [
       "         revision  completion_count\n",
       "count  292.000000      2.920000e+02\n",
       "mean     1.106164      1.010801e+05\n",
       "std      0.330099      3.266703e+05\n",
       "min      1.000000      2.900000e+01\n",
       "25%      1.000000      1.868500e+04\n",
       "50%      1.000000      6.240300e+04\n",
       "75%      1.000000      1.279760e+05\n",
       "max      3.000000      5.475116e+06"
      ]
     },
     "execution_count": 30,
     "metadata": {},
     "output_type": "execute_result"
    }
   ],
   "source": [
    "codewars_df.describe()"
   ]
  },
  {
   "attachments": {},
   "cell_type": "markdown",
   "metadata": {},
   "source": [
    "## Analysis"
   ]
  },
  {
   "attachments": {},
   "cell_type": "markdown",
   "metadata": {},
   "source": [
    "### Analysis of Languages"
   ]
  },
  {
   "attachments": {},
   "cell_type": "markdown",
   "metadata": {},
   "source": [
    "#### First Appearance For Each Language"
   ]
  },
  {
   "cell_type": "code",
   "execution_count": 184,
   "metadata": {},
   "outputs": [
    {
     "data": {
      "text/html": [
       "<div>\n",
       "<style scoped>\n",
       "    .dataframe tbody tr th:only-of-type {\n",
       "        vertical-align: middle;\n",
       "    }\n",
       "\n",
       "    .dataframe tbody tr th {\n",
       "        vertical-align: top;\n",
       "    }\n",
       "\n",
       "    .dataframe thead th {\n",
       "        text-align: right;\n",
       "    }\n",
       "</style>\n",
       "<table border=\"1\" class=\"dataframe\">\n",
       "  <thead>\n",
       "    <tr style=\"text-align: right;\">\n",
       "      <th></th>\n",
       "      <th>language</th>\n",
       "      <th>first_appearance</th>\n",
       "    </tr>\n",
       "  </thead>\n",
       "  <tbody>\n",
       "    <tr>\n",
       "      <th>4</th>\n",
       "      <td>Python</td>\n",
       "      <td>2023-03-07</td>\n",
       "    </tr>\n",
       "    <tr>\n",
       "      <th>3</th>\n",
       "      <td>JavaScript</td>\n",
       "      <td>2023-03-09</td>\n",
       "    </tr>\n",
       "    <tr>\n",
       "      <th>1</th>\n",
       "      <td>C</td>\n",
       "      <td>2023-03-10</td>\n",
       "    </tr>\n",
       "    <tr>\n",
       "      <th>6</th>\n",
       "      <td>Shell</td>\n",
       "      <td>2023-03-27</td>\n",
       "    </tr>\n",
       "    <tr>\n",
       "      <th>5</th>\n",
       "      <td>SQL</td>\n",
       "      <td>2023-05-03</td>\n",
       "    </tr>\n",
       "    <tr>\n",
       "      <th>2</th>\n",
       "      <td>C#</td>\n",
       "      <td>2023-05-03</td>\n",
       "    </tr>\n",
       "    <tr>\n",
       "      <th>0</th>\n",
       "      <td>BF</td>\n",
       "      <td>2023-05-06</td>\n",
       "    </tr>\n",
       "  </tbody>\n",
       "</table>\n",
       "</div>"
      ],
      "text/plain": [
       "     language first_appearance\n",
       "4      Python       2023-03-07\n",
       "3  JavaScript       2023-03-09\n",
       "1           C       2023-03-10\n",
       "6       Shell       2023-03-27\n",
       "5         SQL       2023-05-03\n",
       "2          C#       2023-05-03\n",
       "0          BF       2023-05-06"
      ]
     },
     "execution_count": 184,
     "metadata": {},
     "output_type": "execute_result"
    }
   ],
   "source": [
    "first_appearance_df = codewars_df.groupby('language').agg({'date_time': 'min'}).reset_index()\n",
    "first_appearance_df.sort_values('date_time', inplace=True)\n",
    "# Remove time from date_time\n",
    "first_appearance_df['date_time'] = first_appearance_df['date_time'].dt.date\n",
    "first_appearance_df.rename(columns={'date_time': 'first_appearance'}, inplace=True)\n",
    "first_appearance_df"
   ]
  },
  {
   "cell_type": "code",
   "execution_count": 185,
   "metadata": {},
   "outputs": [],
   "source": [
    "# Let's plot the number of languages over time\n",
    "# Use a cumsum to get the total number of languages\n",
    "first_appearance_df['total_languages'] = range(1, len(first_appearance_df) + 1)"
   ]
  },
  {
   "cell_type": "code",
   "execution_count": 186,
   "metadata": {},
   "outputs": [
    {
     "data": {
      "text/html": [
       "<div>\n",
       "<style scoped>\n",
       "    .dataframe tbody tr th:only-of-type {\n",
       "        vertical-align: middle;\n",
       "    }\n",
       "\n",
       "    .dataframe tbody tr th {\n",
       "        vertical-align: top;\n",
       "    }\n",
       "\n",
       "    .dataframe thead th {\n",
       "        text-align: right;\n",
       "    }\n",
       "</style>\n",
       "<table border=\"1\" class=\"dataframe\">\n",
       "  <thead>\n",
       "    <tr style=\"text-align: right;\">\n",
       "      <th></th>\n",
       "      <th>language</th>\n",
       "      <th>first_appearance</th>\n",
       "      <th>total_languages</th>\n",
       "    </tr>\n",
       "  </thead>\n",
       "  <tbody>\n",
       "    <tr>\n",
       "      <th>4</th>\n",
       "      <td>Python</td>\n",
       "      <td>2023-03-07</td>\n",
       "      <td>1</td>\n",
       "    </tr>\n",
       "    <tr>\n",
       "      <th>3</th>\n",
       "      <td>JavaScript</td>\n",
       "      <td>2023-03-09</td>\n",
       "      <td>2</td>\n",
       "    </tr>\n",
       "    <tr>\n",
       "      <th>1</th>\n",
       "      <td>C</td>\n",
       "      <td>2023-03-10</td>\n",
       "      <td>3</td>\n",
       "    </tr>\n",
       "    <tr>\n",
       "      <th>6</th>\n",
       "      <td>Shell</td>\n",
       "      <td>2023-03-27</td>\n",
       "      <td>4</td>\n",
       "    </tr>\n",
       "    <tr>\n",
       "      <th>5</th>\n",
       "      <td>SQL</td>\n",
       "      <td>2023-05-03</td>\n",
       "      <td>5</td>\n",
       "    </tr>\n",
       "  </tbody>\n",
       "</table>\n",
       "</div>"
      ],
      "text/plain": [
       "     language first_appearance  total_languages\n",
       "4      Python       2023-03-07                1\n",
       "3  JavaScript       2023-03-09                2\n",
       "1           C       2023-03-10                3\n",
       "6       Shell       2023-03-27                4\n",
       "5         SQL       2023-05-03                5"
      ]
     },
     "execution_count": 186,
     "metadata": {},
     "output_type": "execute_result"
    }
   ],
   "source": [
    "first_appearance_df.head()"
   ]
  },
  {
   "cell_type": "code",
   "execution_count": 187,
   "metadata": {},
   "outputs": [
    {
     "data": {
      "text/html": [
       "<div>\n",
       "<style scoped>\n",
       "    .dataframe tbody tr th:only-of-type {\n",
       "        vertical-align: middle;\n",
       "    }\n",
       "\n",
       "    .dataframe tbody tr th {\n",
       "        vertical-align: top;\n",
       "    }\n",
       "\n",
       "    .dataframe thead th {\n",
       "        text-align: right;\n",
       "    }\n",
       "</style>\n",
       "<table border=\"1\" class=\"dataframe\">\n",
       "  <thead>\n",
       "    <tr style=\"text-align: right;\">\n",
       "      <th></th>\n",
       "      <th>language</th>\n",
       "      <th>first_appearance</th>\n",
       "      <th>total_languages</th>\n",
       "    </tr>\n",
       "  </thead>\n",
       "  <tbody>\n",
       "    <tr>\n",
       "      <th>4</th>\n",
       "      <td>True</td>\n",
       "      <td>True</td>\n",
       "      <td>True</td>\n",
       "    </tr>\n",
       "    <tr>\n",
       "      <th>3</th>\n",
       "      <td>True</td>\n",
       "      <td>True</td>\n",
       "      <td>True</td>\n",
       "    </tr>\n",
       "    <tr>\n",
       "      <th>1</th>\n",
       "      <td>True</td>\n",
       "      <td>True</td>\n",
       "      <td>True</td>\n",
       "    </tr>\n",
       "    <tr>\n",
       "      <th>6</th>\n",
       "      <td>True</td>\n",
       "      <td>True</td>\n",
       "      <td>True</td>\n",
       "    </tr>\n",
       "    <tr>\n",
       "      <th>5</th>\n",
       "      <td>True</td>\n",
       "      <td>True</td>\n",
       "      <td>True</td>\n",
       "    </tr>\n",
       "    <tr>\n",
       "      <th>2</th>\n",
       "      <td>True</td>\n",
       "      <td>True</td>\n",
       "      <td>True</td>\n",
       "    </tr>\n",
       "    <tr>\n",
       "      <th>0</th>\n",
       "      <td>True</td>\n",
       "      <td>True</td>\n",
       "      <td>True</td>\n",
       "    </tr>\n",
       "  </tbody>\n",
       "</table>\n",
       "</div>"
      ],
      "text/plain": [
       "   language  first_appearance  total_languages\n",
       "4      True              True             True\n",
       "3      True              True             True\n",
       "1      True              True             True\n",
       "6      True              True             True\n",
       "5      True              True             True\n",
       "2      True              True             True\n",
       "0      True              True             True"
      ]
     },
     "execution_count": 187,
     "metadata": {},
     "output_type": "execute_result"
    }
   ],
   "source": [
    "first_appearance_df == first_appearance_df.sort_values('first_appearance')"
   ]
  },
  {
   "cell_type": "code",
   "execution_count": 199,
   "metadata": {},
   "outputs": [
    {
     "data": {
      "image/png": "[encoded data removed]",
      "text/plain": [
       "<Figure size 1200x800 with 1 Axes>"
      ]
     },
     "metadata": {},
     "output_type": "display_data"
    }
   ],
   "source": [
    "# Plot total languages over time\n",
    "plt.figure(figsize=(12, 8))\n",
    "plt.plot(first_appearance_df['first_appearance'], first_appearance_df['total_languages'], marker='o', linestyle='--')\n",
    "plt.ylabel('Total number of languages')\n",
    "plt.xlabel('Date')\n",
    "plt.title('Total number of languages over time')\n",
    "\n",
    "# Add labels to the points\n",
    "for i, language in enumerate(first_appearance_df['language']):\n",
    "    plt.annotate(language, (first_appearance_df['first_appearance'].iloc[i], first_appearance_df['total_languages'].iloc[i]), weight='bold', fontsize=12)"
   ]
  },
  {
   "attachments": {},
   "cell_type": "markdown",
   "metadata": {},
   "source": [
    "#### Representation of Languages Over Time"
   ]
  },
  {
   "cell_type": "code",
   "execution_count": 200,
   "metadata": {},
   "outputs": [
    {
     "name": "stderr",
     "output_type": "stream",
     "text": [
      "/tmp/ipykernel_26681/3431246607.py:2: SettingWithCopyWarning: \n",
      "A value is trying to be set on a copy of a slice from a DataFrame.\n",
      "Try using .loc[row_indexer,col_indexer] = value instead\n",
      "\n",
      "See the caveats in the documentation: https://pandas.pydata.org/pandas-docs/stable/user_guide/indexing.html#returning-a-view-versus-a-copy\n",
      "  language_representation_df['date_time'] = language_representation_df['date_time'].dt.date\n",
      "/tmp/ipykernel_26681/3431246607.py:3: SettingWithCopyWarning: \n",
      "A value is trying to be set on a copy of a slice from a DataFrame\n",
      "\n",
      "See the caveats in the documentation: https://pandas.pydata.org/pandas-docs/stable/user_guide/indexing.html#returning-a-view-versus-a-copy\n",
      "  language_representation_df.sort_values('date_time', inplace=True)\n"
     ]
    },
    {
     "data": {
      "text/html": [
       "<div>\n",
       "<style scoped>\n",
       "    .dataframe tbody tr th:only-of-type {\n",
       "        vertical-align: middle;\n",
       "    }\n",
       "\n",
       "    .dataframe tbody tr th {\n",
       "        vertical-align: top;\n",
       "    }\n",
       "\n",
       "    .dataframe thead th {\n",
       "        text-align: right;\n",
       "    }\n",
       "</style>\n",
       "<table border=\"1\" class=\"dataframe\">\n",
       "  <thead>\n",
       "    <tr style=\"text-align: right;\">\n",
       "      <th></th>\n",
       "      <th>problem_id</th>\n",
       "      <th>language</th>\n",
       "      <th>date_time</th>\n",
       "    </tr>\n",
       "  </thead>\n",
       "  <tbody>\n",
       "    <tr>\n",
       "      <th>140</th>\n",
       "      <td>5556282156230d0e5e000089</td>\n",
       "      <td>Python</td>\n",
       "      <td>2023-03-07</td>\n",
       "    </tr>\n",
       "    <tr>\n",
       "      <th>93</th>\n",
       "      <td>50654ddff44f800200000004</td>\n",
       "      <td>Python</td>\n",
       "      <td>2023-03-07</td>\n",
       "    </tr>\n",
       "    <tr>\n",
       "      <th>105</th>\n",
       "      <td>555086d53eac039a2a000083</td>\n",
       "      <td>Python</td>\n",
       "      <td>2023-03-07</td>\n",
       "    </tr>\n",
       "    <tr>\n",
       "      <th>127</th>\n",
       "      <td>523f5d21c841566fde000009</td>\n",
       "      <td>Python</td>\n",
       "      <td>2023-03-07</td>\n",
       "    </tr>\n",
       "    <tr>\n",
       "      <th>133</th>\n",
       "      <td>5412509bd436bd33920011bc</td>\n",
       "      <td>Python</td>\n",
       "      <td>2023-03-07</td>\n",
       "    </tr>\n",
       "  </tbody>\n",
       "</table>\n",
       "</div>"
      ],
      "text/plain": [
       "                   problem_id language   date_time\n",
       "140  5556282156230d0e5e000089   Python  2023-03-07\n",
       "93   50654ddff44f800200000004   Python  2023-03-07\n",
       "105  555086d53eac039a2a000083   Python  2023-03-07\n",
       "127  523f5d21c841566fde000009   Python  2023-03-07\n",
       "133  5412509bd436bd33920011bc   Python  2023-03-07"
      ]
     },
     "execution_count": 200,
     "metadata": {},
     "output_type": "execute_result"
    }
   ],
   "source": [
    "language_representation_df = codewars_df[['problem_id', 'language', 'date_time']]\n",
    "language_representation_df['date_time'] = language_representation_df['date_time'].dt.date\n",
    "language_representation_df.sort_values('date_time', inplace=True)\n",
    "language_representation_df.head()"
   ]
  },
  {
   "cell_type": "code",
   "execution_count": 201,
   "metadata": {},
   "outputs": [
    {
     "data": {
      "text/html": [
       "<div>\n",
       "<style scoped>\n",
       "    .dataframe tbody tr th:only-of-type {\n",
       "        vertical-align: middle;\n",
       "    }\n",
       "\n",
       "    .dataframe tbody tr th {\n",
       "        vertical-align: top;\n",
       "    }\n",
       "\n",
       "    .dataframe thead th {\n",
       "        text-align: right;\n",
       "    }\n",
       "</style>\n",
       "<table border=\"1\" class=\"dataframe\">\n",
       "  <thead>\n",
       "    <tr style=\"text-align: right;\">\n",
       "      <th></th>\n",
       "      <th>problem_id</th>\n",
       "      <th>total_problems</th>\n",
       "    </tr>\n",
       "  </thead>\n",
       "  <tbody>\n",
       "    <tr>\n",
       "      <th>count</th>\n",
       "      <td>56.000000</td>\n",
       "      <td>56.000000</td>\n",
       "    </tr>\n",
       "    <tr>\n",
       "      <th>mean</th>\n",
       "      <td>5.214286</td>\n",
       "      <td>40.857143</td>\n",
       "    </tr>\n",
       "    <tr>\n",
       "      <th>std</th>\n",
       "      <td>5.904434</td>\n",
       "      <td>41.684716</td>\n",
       "    </tr>\n",
       "    <tr>\n",
       "      <th>min</th>\n",
       "      <td>1.000000</td>\n",
       "      <td>2.000000</td>\n",
       "    </tr>\n",
       "    <tr>\n",
       "      <th>25%</th>\n",
       "      <td>1.750000</td>\n",
       "      <td>10.750000</td>\n",
       "    </tr>\n",
       "    <tr>\n",
       "      <th>50%</th>\n",
       "      <td>3.000000</td>\n",
       "      <td>29.500000</td>\n",
       "    </tr>\n",
       "    <tr>\n",
       "      <th>75%</th>\n",
       "      <td>6.250000</td>\n",
       "      <td>56.250000</td>\n",
       "    </tr>\n",
       "    <tr>\n",
       "      <th>max</th>\n",
       "      <td>29.000000</td>\n",
       "      <td>173.000000</td>\n",
       "    </tr>\n",
       "  </tbody>\n",
       "</table>\n",
       "</div>"
      ],
      "text/plain": [
       "       problem_id  total_problems\n",
       "count   56.000000       56.000000\n",
       "mean     5.214286       40.857143\n",
       "std      5.904434       41.684716\n",
       "min      1.000000        2.000000\n",
       "25%      1.750000       10.750000\n",
       "50%      3.000000       29.500000\n",
       "75%      6.250000       56.250000\n",
       "max     29.000000      173.000000"
      ]
     },
     "execution_count": 201,
     "metadata": {},
     "output_type": "execute_result"
    }
   ],
   "source": [
    "# Now we need to count the number of problems per language per day\n",
    "language_representation_df = language_representation_df.groupby(['language', 'date_time']).agg({'problem_id': 'count'}).reset_index()\n",
    "# Now we can apply a cumsum\n",
    "language_representation_df['total_problems'] = language_representation_df.groupby('language')['problem_id'].cumsum()\n",
    "language_representation_df.describe()"
   ]
  },
  {
   "cell_type": "code",
   "execution_count": 202,
   "metadata": {},
   "outputs": [
    {
     "data": {
      "text/html": [
       "<div>\n",
       "<style scoped>\n",
       "    .dataframe tbody tr th:only-of-type {\n",
       "        vertical-align: middle;\n",
       "    }\n",
       "\n",
       "    .dataframe tbody tr th {\n",
       "        vertical-align: top;\n",
       "    }\n",
       "\n",
       "    .dataframe thead th {\n",
       "        text-align: right;\n",
       "    }\n",
       "</style>\n",
       "<table border=\"1\" class=\"dataframe\">\n",
       "  <thead>\n",
       "    <tr style=\"text-align: right;\">\n",
       "      <th></th>\n",
       "      <th>language</th>\n",
       "      <th>date_time</th>\n",
       "      <th>problem_id</th>\n",
       "      <th>total_problems</th>\n",
       "    </tr>\n",
       "  </thead>\n",
       "  <tbody>\n",
       "    <tr>\n",
       "      <th>0</th>\n",
       "      <td>BF</td>\n",
       "      <td>2023-05-06</td>\n",
       "      <td>2</td>\n",
       "      <td>2</td>\n",
       "    </tr>\n",
       "    <tr>\n",
       "      <th>1</th>\n",
       "      <td>BF</td>\n",
       "      <td>2023-05-07</td>\n",
       "      <td>1</td>\n",
       "      <td>3</td>\n",
       "    </tr>\n",
       "    <tr>\n",
       "      <th>2</th>\n",
       "      <td>BF</td>\n",
       "      <td>2023-05-09</td>\n",
       "      <td>2</td>\n",
       "      <td>5</td>\n",
       "    </tr>\n",
       "    <tr>\n",
       "      <th>3</th>\n",
       "      <td>BF</td>\n",
       "      <td>2023-05-15</td>\n",
       "      <td>6</td>\n",
       "      <td>11</td>\n",
       "    </tr>\n",
       "    <tr>\n",
       "      <th>4</th>\n",
       "      <td>C</td>\n",
       "      <td>2023-03-10</td>\n",
       "      <td>2</td>\n",
       "      <td>2</td>\n",
       "    </tr>\n",
       "  </tbody>\n",
       "</table>\n",
       "</div>"
      ],
      "text/plain": [
       "  language   date_time  problem_id  total_problems\n",
       "0       BF  2023-05-06           2               2\n",
       "1       BF  2023-05-07           1               3\n",
       "2       BF  2023-05-09           2               5\n",
       "3       BF  2023-05-15           6              11\n",
       "4        C  2023-03-10           2               2"
      ]
     },
     "execution_count": 202,
     "metadata": {},
     "output_type": "execute_result"
    }
   ],
   "source": [
    "language_representation_df.head()"
   ]
  },
  {
   "cell_type": "code",
   "execution_count": 203,
   "metadata": {},
   "outputs": [],
   "source": [
    "from datetime import timedelta\n",
    "\n",
    "# Add values to the chart where there will be holes (from problem count not starting at 0, from problems not being completed on the last day of the dataset)\n",
    "max_date = language_representation_df['date_time'].max()\n",
    "for language in language_representation_df['language'].unique():\n",
    "    # Entry with the max date of the entire dataframe and the max total_problems for each language\n",
    "    max_total_problems = language_representation_df[language_representation_df['language'] == language]['total_problems'].max()\n",
    "    max_date_row = [language, max_date, \"\", max_total_problems]\n",
    "    language_representation_df.loc[len(language_representation_df)] = max_date_row\n",
    "    \n",
    "    # An entry for each language at the day before the first appearance with 0 total_problems\n",
    "    first_appearance = first_appearance_df[first_appearance_df['language'] == language]['first_appearance'].values[0]\n",
    "    min_date_row = [language, first_appearance - timedelta(days=1), \"\", 0]\n",
    "    language_representation_df.loc[len(language_representation_df)] = min_date_row"
   ]
  },
  {
   "cell_type": "code",
   "execution_count": 206,
   "metadata": {},
   "outputs": [
    {
     "data": {
      "image/png": "[encoded data removed]",
      "text/plain": [
       "<Figure size 1500x1000 with 1 Axes>"
      ]
     },
     "metadata": {},
     "output_type": "display_data"
    }
   ],
   "source": [
    "# Plot line chart\n",
    "fig, ax = plt.subplots(figsize=(15, 10))\n",
    "for key, grp in language_representation_df.groupby(['language']):\n",
    "    ax = grp.plot(ax=ax, kind='line', x='date_time', y='total_problems', label=key)\n",
    "plt.legend(loc='best')\n",
    "plt.title('Cumulative number of problems per language')\n",
    "plt.xlabel('Date')\n",
    "plt.ylabel('Number of problems')\n",
    "min_date = language_representation_df['date_time'].min()\n",
    "plt.xlim(min_date, max_date)\n",
    "plt.ylim(0, language_representation_df['total_problems'].max() * 1.05)\n",
    "plt.show()"
   ]
  },
  {
   "attachments": {},
   "cell_type": "markdown",
   "metadata": {},
   "source": [
    "### Analysis of Tags"
   ]
  },
  {
   "cell_type": "code",
   "execution_count": 31,
   "metadata": {},
   "outputs": [],
   "source": [
    "import ast\n",
    "# Create a series by extracting the tags column as a list\n",
    "tags_series = pd.Series(codewars_df['tags'].apply(ast.literal_eval))"
   ]
  },
  {
   "attachments": {},
   "cell_type": "markdown",
   "metadata": {},
   "source": [
    "#### Tag Frequency"
   ]
  },
  {
   "cell_type": "code",
   "execution_count": 32,
   "metadata": {},
   "outputs": [
    {
     "data": {
      "text/plain": [
       "[('Fundamentals', 255),\n",
       " ('Strings', 83),\n",
       " ('Arrays', 59),\n",
       " ('Algorithms', 53),\n",
       " ('Mathematics', 33),\n",
       " ('Regular Expressions', 31),\n",
       " ('SQL', 23),\n",
       " ('Lists', 12),\n",
       " ('Databases', 10),\n",
       " ('Geometry', 5),\n",
       " ('Data Science', 5),\n",
       " ('Puzzles', 4),\n",
       " ('Data Structures', 4),\n",
       " ('Games', 3),\n",
       " ('Date Time', 3),\n",
       " ('NumPy', 3),\n",
       " ('ASCII Art', 3),\n",
       " ('Filtering', 2),\n",
       " ('Parsing', 2),\n",
       " ('Sorting', 2),\n",
       " ('Object-oriented Programming', 2),\n",
       " ('Number Theory', 2),\n",
       " ('Logic', 2),\n",
       " ('Algebra', 2),\n",
       " ('Linear Algebra', 1),\n",
       " ('Combinatorics', 1),\n",
       " ('Graph Theory', 1),\n",
       " ('Cryptography', 1),\n",
       " ('Debugging', 1),\n",
       " ('Dynamic Programming', 1),\n",
       " ('Performance', 1),\n",
       " ('Design Patterns', 1),\n",
       " ('Permutations', 1),\n",
       " ('Refactoring', 1),\n",
       " ('Binary', 1),\n",
       " ('Ciphers', 1),\n",
       " ('Restricted', 1),\n",
       " ('Recursion', 1)]"
      ]
     },
     "execution_count": 32,
     "metadata": {},
     "output_type": "execute_result"
    }
   ],
   "source": [
    "# Let's get a list of tags\n",
    "tag_counts = {}\n",
    "for tag_list in tags_series:\n",
    "    for tag in tag_list:\n",
    "        if tag not in tag_counts:\n",
    "            tag_counts[tag] = 1\n",
    "        else:\n",
    "            tag_counts[tag] += 1\n",
    "            \n",
    "# Get tag_counts sorted by value\n",
    "sorted(tag_counts.items(), key=lambda x: x[1], reverse=True)"
   ]
  },
  {
   "attachments": {},
   "cell_type": "markdown",
   "metadata": {},
   "source": [
    "#### Heatmap\n",
    "Excluding tags with 2 or less appearances"
   ]
  },
  {
   "cell_type": "code",
   "execution_count": 33,
   "metadata": {},
   "outputs": [
    {
     "data": {
      "text/plain": [
       "<AxesSubplot:>"
      ]
     },
     "execution_count": 33,
     "metadata": {},
     "output_type": "execute_result"
    },
    {
     "data": {
      "image/png": "[encoded data removed]",
      "text/plain": [
       "<Figure size 1000x1000 with 2 Axes>"
      ]
     },
     "metadata": {},
     "output_type": "display_data"
    }
   ],
   "source": [
    "# Create heatmap from the dictionary\n",
    "tags_df = pd.DataFrame.from_dict(tag_counts, orient='index', columns=['count'])\n",
    "\n",
    "plt.figure(figsize=(10, 10))\n",
    "sns.heatmap(tags_df[tags_df[\"count\"] > 2], annot=True, fmt='g', cmap='crest')"
   ]
  },
  {
   "attachments": {},
   "cell_type": "markdown",
   "metadata": {},
   "source": [
    "#### Top Tag Representation Over Time"
   ]
  },
  {
   "cell_type": "code",
   "execution_count": 34,
   "metadata": {},
   "outputs": [
    {
     "data": {
      "text/plain": [
       "(292, 7)"
      ]
     },
     "execution_count": 34,
     "metadata": {},
     "output_type": "execute_result"
    }
   ],
   "source": [
    "# Top n tags\n",
    "num_tags = 6\n",
    "top_tags = [tag for tag in sorted(tag_counts.items(), key=lambda x: x[1], reverse=True)[:num_tags]]\n",
    "# Get the tag names\n",
    "top_tags = [tag[0] for tag in top_tags]\n",
    "\n",
    "# Now we can analysis the tag representation over time in a new dataframe\n",
    "tag_representation_df = codewars_df[['date_time', 'tags']].copy()\n",
    "\n",
    "# Convert date time to just date\n",
    "tag_representation_df['date_time'] = tag_representation_df['date_time'].dt.date\n",
    "tag_representation_df['date_time'] = pd.to_datetime(tag_representation_df['date_time'])\n",
    "tag_representation_df.rename(columns={'date_time': 'date'}, inplace=True)\n",
    "\n",
    "# Convert tags to a list then create columns for each tag\n",
    "tag_representation_df['tags'] = tag_representation_df['tags'].apply(ast.literal_eval)\n",
    "for tag in top_tags:\n",
    "    tag_representation_df[tag] = tag_representation_df['tags'].apply(lambda x: int(tag in x))\n",
    "\n",
    "# Drop the original tags column\n",
    "tag_representation_df.drop('tags', axis=1, inplace=True)\n",
    "\n",
    "tag_representation_df.shape"
   ]
  },
  {
   "cell_type": "code",
   "execution_count": 35,
   "metadata": {},
   "outputs": [
    {
     "data": {
      "text/html": [
       "<div>\n",
       "<style scoped>\n",
       "    .dataframe tbody tr th:only-of-type {\n",
       "        vertical-align: middle;\n",
       "    }\n",
       "\n",
       "    .dataframe tbody tr th {\n",
       "        vertical-align: top;\n",
       "    }\n",
       "\n",
       "    .dataframe thead th {\n",
       "        text-align: right;\n",
       "    }\n",
       "</style>\n",
       "<table border=\"1\" class=\"dataframe\">\n",
       "  <thead>\n",
       "    <tr style=\"text-align: right;\">\n",
       "      <th></th>\n",
       "      <th>date</th>\n",
       "      <th>Fundamentals</th>\n",
       "      <th>Strings</th>\n",
       "      <th>Arrays</th>\n",
       "      <th>Algorithms</th>\n",
       "      <th>Mathematics</th>\n",
       "      <th>Regular Expressions</th>\n",
       "    </tr>\n",
       "  </thead>\n",
       "  <tbody>\n",
       "    <tr>\n",
       "      <th>0</th>\n",
       "      <td>2023-04-08</td>\n",
       "      <td>1</td>\n",
       "      <td>0</td>\n",
       "      <td>0</td>\n",
       "      <td>0</td>\n",
       "      <td>0</td>\n",
       "      <td>0</td>\n",
       "    </tr>\n",
       "    <tr>\n",
       "      <th>1</th>\n",
       "      <td>2023-03-27</td>\n",
       "      <td>1</td>\n",
       "      <td>1</td>\n",
       "      <td>0</td>\n",
       "      <td>0</td>\n",
       "      <td>0</td>\n",
       "      <td>0</td>\n",
       "    </tr>\n",
       "    <tr>\n",
       "      <th>2</th>\n",
       "      <td>2023-04-08</td>\n",
       "      <td>1</td>\n",
       "      <td>0</td>\n",
       "      <td>0</td>\n",
       "      <td>0</td>\n",
       "      <td>0</td>\n",
       "      <td>0</td>\n",
       "    </tr>\n",
       "    <tr>\n",
       "      <th>3</th>\n",
       "      <td>2023-04-17</td>\n",
       "      <td>1</td>\n",
       "      <td>0</td>\n",
       "      <td>0</td>\n",
       "      <td>1</td>\n",
       "      <td>1</td>\n",
       "      <td>0</td>\n",
       "    </tr>\n",
       "    <tr>\n",
       "      <th>4</th>\n",
       "      <td>2023-03-31</td>\n",
       "      <td>1</td>\n",
       "      <td>0</td>\n",
       "      <td>0</td>\n",
       "      <td>0</td>\n",
       "      <td>0</td>\n",
       "      <td>0</td>\n",
       "    </tr>\n",
       "  </tbody>\n",
       "</table>\n",
       "</div>"
      ],
      "text/plain": [
       "        date  Fundamentals  Strings  Arrays  Algorithms  Mathematics  \\\n",
       "0 2023-04-08             1        0       0           0            0   \n",
       "1 2023-03-27             1        1       0           0            0   \n",
       "2 2023-04-08             1        0       0           0            0   \n",
       "3 2023-04-17             1        0       0           1            1   \n",
       "4 2023-03-31             1        0       0           0            0   \n",
       "\n",
       "   Regular Expressions  \n",
       "0                    0  \n",
       "1                    0  \n",
       "2                    0  \n",
       "3                    0  \n",
       "4                    0  "
      ]
     },
     "execution_count": 35,
     "metadata": {},
     "output_type": "execute_result"
    }
   ],
   "source": [
    "tag_representation_df.head()"
   ]
  },
  {
   "cell_type": "code",
   "execution_count": 36,
   "metadata": {},
   "outputs": [],
   "source": [
    "# Group by date\n",
    "tag_representation_df = tag_representation_df.groupby('date').sum()"
   ]
  },
  {
   "cell_type": "code",
   "execution_count": 37,
   "metadata": {},
   "outputs": [
    {
     "data": {
      "text/plain": [
       "(37, 6)"
      ]
     },
     "execution_count": 37,
     "metadata": {},
     "output_type": "execute_result"
    }
   ],
   "source": [
    "tag_representation_df.shape"
   ]
  },
  {
   "cell_type": "code",
   "execution_count": 38,
   "metadata": {},
   "outputs": [
    {
     "data": {
      "text/html": [
       "<div>\n",
       "<style scoped>\n",
       "    .dataframe tbody tr th:only-of-type {\n",
       "        vertical-align: middle;\n",
       "    }\n",
       "\n",
       "    .dataframe tbody tr th {\n",
       "        vertical-align: top;\n",
       "    }\n",
       "\n",
       "    .dataframe thead th {\n",
       "        text-align: right;\n",
       "    }\n",
       "</style>\n",
       "<table border=\"1\" class=\"dataframe\">\n",
       "  <thead>\n",
       "    <tr style=\"text-align: right;\">\n",
       "      <th></th>\n",
       "      <th>Fundamentals</th>\n",
       "      <th>Strings</th>\n",
       "      <th>Arrays</th>\n",
       "      <th>Algorithms</th>\n",
       "      <th>Mathematics</th>\n",
       "      <th>Regular Expressions</th>\n",
       "    </tr>\n",
       "    <tr>\n",
       "      <th>date</th>\n",
       "      <th></th>\n",
       "      <th></th>\n",
       "      <th></th>\n",
       "      <th></th>\n",
       "      <th></th>\n",
       "      <th></th>\n",
       "    </tr>\n",
       "  </thead>\n",
       "  <tbody>\n",
       "    <tr>\n",
       "      <th>2023-03-07</th>\n",
       "      <td>8</td>\n",
       "      <td>3</td>\n",
       "      <td>2</td>\n",
       "      <td>2</td>\n",
       "      <td>0</td>\n",
       "      <td>0</td>\n",
       "    </tr>\n",
       "    <tr>\n",
       "      <th>2023-03-08</th>\n",
       "      <td>5</td>\n",
       "      <td>2</td>\n",
       "      <td>2</td>\n",
       "      <td>7</td>\n",
       "      <td>2</td>\n",
       "      <td>0</td>\n",
       "    </tr>\n",
       "    <tr>\n",
       "      <th>2023-03-09</th>\n",
       "      <td>19</td>\n",
       "      <td>4</td>\n",
       "      <td>10</td>\n",
       "      <td>3</td>\n",
       "      <td>2</td>\n",
       "      <td>0</td>\n",
       "    </tr>\n",
       "    <tr>\n",
       "      <th>2023-03-10</th>\n",
       "      <td>10</td>\n",
       "      <td>4</td>\n",
       "      <td>2</td>\n",
       "      <td>0</td>\n",
       "      <td>1</td>\n",
       "      <td>0</td>\n",
       "    </tr>\n",
       "    <tr>\n",
       "      <th>2023-03-11</th>\n",
       "      <td>7</td>\n",
       "      <td>3</td>\n",
       "      <td>0</td>\n",
       "      <td>2</td>\n",
       "      <td>0</td>\n",
       "      <td>0</td>\n",
       "    </tr>\n",
       "  </tbody>\n",
       "</table>\n",
       "</div>"
      ],
      "text/plain": [
       "            Fundamentals  Strings  Arrays  Algorithms  Mathematics  \\\n",
       "date                                                                 \n",
       "2023-03-07             8        3       2           2            0   \n",
       "2023-03-08             5        2       2           7            2   \n",
       "2023-03-09            19        4      10           3            2   \n",
       "2023-03-10            10        4       2           0            1   \n",
       "2023-03-11             7        3       0           2            0   \n",
       "\n",
       "            Regular Expressions  \n",
       "date                             \n",
       "2023-03-07                    0  \n",
       "2023-03-08                    0  \n",
       "2023-03-09                    0  \n",
       "2023-03-10                    0  \n",
       "2023-03-11                    0  "
      ]
     },
     "execution_count": 38,
     "metadata": {},
     "output_type": "execute_result"
    }
   ],
   "source": [
    "tag_representation_df.head()"
   ]
  },
  {
   "cell_type": "code",
   "execution_count": 39,
   "metadata": {},
   "outputs": [
    {
     "data": {
      "text/html": [
       "<div>\n",
       "<style scoped>\n",
       "    .dataframe tbody tr th:only-of-type {\n",
       "        vertical-align: middle;\n",
       "    }\n",
       "\n",
       "    .dataframe tbody tr th {\n",
       "        vertical-align: top;\n",
       "    }\n",
       "\n",
       "    .dataframe thead th {\n",
       "        text-align: right;\n",
       "    }\n",
       "</style>\n",
       "<table border=\"1\" class=\"dataframe\">\n",
       "  <thead>\n",
       "    <tr style=\"text-align: right;\">\n",
       "      <th></th>\n",
       "      <th>Fundamentals</th>\n",
       "      <th>Strings</th>\n",
       "      <th>Arrays</th>\n",
       "      <th>Algorithms</th>\n",
       "      <th>Mathematics</th>\n",
       "      <th>Regular Expressions</th>\n",
       "    </tr>\n",
       "    <tr>\n",
       "      <th>date</th>\n",
       "      <th></th>\n",
       "      <th></th>\n",
       "      <th></th>\n",
       "      <th></th>\n",
       "      <th></th>\n",
       "      <th></th>\n",
       "    </tr>\n",
       "  </thead>\n",
       "  <tbody>\n",
       "    <tr>\n",
       "      <th>2023-03-07</th>\n",
       "      <td>8</td>\n",
       "      <td>3</td>\n",
       "      <td>2</td>\n",
       "      <td>2</td>\n",
       "      <td>0</td>\n",
       "      <td>0</td>\n",
       "    </tr>\n",
       "    <tr>\n",
       "      <th>2023-03-08</th>\n",
       "      <td>13</td>\n",
       "      <td>5</td>\n",
       "      <td>4</td>\n",
       "      <td>9</td>\n",
       "      <td>2</td>\n",
       "      <td>0</td>\n",
       "    </tr>\n",
       "    <tr>\n",
       "      <th>2023-03-09</th>\n",
       "      <td>32</td>\n",
       "      <td>9</td>\n",
       "      <td>14</td>\n",
       "      <td>12</td>\n",
       "      <td>4</td>\n",
       "      <td>0</td>\n",
       "    </tr>\n",
       "    <tr>\n",
       "      <th>2023-03-10</th>\n",
       "      <td>42</td>\n",
       "      <td>13</td>\n",
       "      <td>16</td>\n",
       "      <td>12</td>\n",
       "      <td>5</td>\n",
       "      <td>0</td>\n",
       "    </tr>\n",
       "    <tr>\n",
       "      <th>2023-03-11</th>\n",
       "      <td>49</td>\n",
       "      <td>16</td>\n",
       "      <td>16</td>\n",
       "      <td>14</td>\n",
       "      <td>5</td>\n",
       "      <td>0</td>\n",
       "    </tr>\n",
       "  </tbody>\n",
       "</table>\n",
       "</div>"
      ],
      "text/plain": [
       "            Fundamentals  Strings  Arrays  Algorithms  Mathematics  \\\n",
       "date                                                                 \n",
       "2023-03-07             8        3       2           2            0   \n",
       "2023-03-08            13        5       4           9            2   \n",
       "2023-03-09            32        9      14          12            4   \n",
       "2023-03-10            42       13      16          12            5   \n",
       "2023-03-11            49       16      16          14            5   \n",
       "\n",
       "            Regular Expressions  \n",
       "date                             \n",
       "2023-03-07                    0  \n",
       "2023-03-08                    0  \n",
       "2023-03-09                    0  \n",
       "2023-03-10                    0  \n",
       "2023-03-11                    0  "
      ]
     },
     "execution_count": 39,
     "metadata": {},
     "output_type": "execute_result"
    }
   ],
   "source": [
    "# Final step is to change the tag columns to sums\n",
    "for tag in top_tags:\n",
    "    tag_representation_df[tag] = tag_representation_df[tag].cumsum()\n",
    "    \n",
    "tag_representation_df.head()"
   ]
  },
  {
   "cell_type": "code",
   "execution_count": 40,
   "metadata": {},
   "outputs": [
    {
     "data": {
      "text/plain": [
       "Text(0.5, 1.0, 'Zoom')"
      ]
     },
     "execution_count": 40,
     "metadata": {},
     "output_type": "execute_result"
    },
    {
     "data": {
      "image/png": "[encoded data removed]",
      "text/plain": [
       "<Figure size 1000x1000 with 2 Axes>"
      ]
     },
     "metadata": {},
     "output_type": "display_data"
    }
   ],
   "source": [
    "# Side note: I can't believe I actually got that to work\n",
    "# Now we can plot the data\n",
    "fig = plt.figure(figsize=(10, 10))\n",
    "ax1 = fig.add_axes([0, 0, 1, 1])\n",
    "ax2 = fig.add_axes([0.2, 0.5, 0.3, 0.3])\n",
    "ax1.set(xlabel='Date', ylabel='Cumulative Count', title=f'Cumulative Count of Top {num_tags} Tags Over Time')\n",
    "ax1.plot(tag_representation_df)\n",
    "ax2.plot(tag_representation_df)\n",
    "ax1.legend(top_tags)\n",
    "# Set limits for first plot (from first date to last date)\n",
    "ax1.set_xlim([pd.Timestamp(tag_representation_df.index[0]), pd.Timestamp(tag_representation_df.index[-1])])\n",
    "ax2.set_ylim([0, 250])\n",
    "# Set limits for the second plot\n",
    "ax2_start_date = pd.Timestamp('2023-04-24')\n",
    "ax2_end_date = pd.Timestamp('2023-05-14')\n",
    "ax2.set_xlim([ax2_start_date, ax2_end_date])\n",
    "ax2.set_ylim([0, 85])\n",
    "# Set ticks for the second plot\n",
    "ax2.set_xticks([ax2_start_date, ax2_end_date], freq='D')\n",
    "ax2.tick_params(axis='x', labelrotation=45)\n",
    "ax2.set_title('Zoom')"
   ]
  },
  {
   "attachments": {},
   "cell_type": "markdown",
   "metadata": {},
   "source": [
    "#### Tags vs Language Heatmap"
   ]
  },
  {
   "cell_type": "code",
   "execution_count": 51,
   "metadata": {},
   "outputs": [],
   "source": [
    "# We'll make a new dataframe with language counts and tag list\n",
    "language_tags_df = codewars_df[['language', 'tags']].copy()\n",
    "language_tags_df['tags'] = language_tags_df['tags'].apply(ast.literal_eval)"
   ]
  },
  {
   "cell_type": "code",
   "execution_count": 54,
   "metadata": {},
   "outputs": [
    {
     "data": {
      "text/plain": [
       "{'Shell': {},\n",
       " 'Python': {},\n",
       " 'BF': {},\n",
       " 'SQL': {},\n",
       " 'JavaScript': {},\n",
       " 'C': {},\n",
       " 'C#': {}}"
      ]
     },
     "execution_count": 54,
     "metadata": {},
     "output_type": "execute_result"
    }
   ],
   "source": [
    "# Create a dictionary with a list of dictionaries for each language\n",
    "language_tags_dict = {\n",
    "    language: {} for language in language_tags_df['language'].unique()\n",
    "}\n",
    "language_tags_dict"
   ]
  },
  {
   "cell_type": "code",
   "execution_count": 56,
   "metadata": {},
   "outputs": [],
   "source": [
    "# Now we can use iterrows to start filling in the dictionary\n",
    "for index, row in language_tags_df.iterrows():\n",
    "    language = row['language']\n",
    "    tags = row['tags']\n",
    "    for tag in tags:\n",
    "        if tag not in language_tags_dict[language]:\n",
    "            language_tags_dict[language][tag] = 1\n",
    "        else:\n",
    "            language_tags_dict[language][tag] += 1"
   ]
  },
  {
   "cell_type": "code",
   "execution_count": 80,
   "metadata": {},
   "outputs": [
    {
     "name": "stdout",
     "output_type": "stream",
     "text": [
      "Shell\n",
      "Number of tags: 3\n",
      "Python\n",
      "Number of tags: 8\n",
      "BF\n",
      "Number of tags: 2\n",
      "SQL\n",
      "Number of tags: 6\n",
      "JavaScript\n",
      "Number of tags: 3\n",
      "C\n",
      "Number of tags: 2\n",
      "C#\n",
      "Number of tags: 0\n"
     ]
    }
   ],
   "source": [
    "# There's some clutter in the dictionary, so we'll filter out some less represented tags\n",
    "lowest_tag_count = 5\n",
    "\n",
    "for language in language_tags_dict:\n",
    "    language_tags_dict[language] = {tag: count for tag, count in language_tags_dict[language].items() if count > lowest_tag_count}\n",
    "\n",
    "# Then let's have a look at the counts\n",
    "for language in language_tags_dict:\n",
    "    print(language)\n",
    "    print(\"Number of tags:\", len(language_tags_dict[language]))"
   ]
  },
  {
   "cell_type": "code",
   "execution_count": 81,
   "metadata": {},
   "outputs": [],
   "source": [
    "# Now we can create a dataframe from the dictionary\n",
    "language_tags_df = pd.DataFrame.from_dict(language_tags_dict, orient='index')"
   ]
  },
  {
   "cell_type": "code",
   "execution_count": 82,
   "metadata": {},
   "outputs": [
    {
     "data": {
      "text/html": [
       "<div>\n",
       "<style scoped>\n",
       "    .dataframe tbody tr th:only-of-type {\n",
       "        vertical-align: middle;\n",
       "    }\n",
       "\n",
       "    .dataframe tbody tr th {\n",
       "        vertical-align: top;\n",
       "    }\n",
       "\n",
       "    .dataframe thead th {\n",
       "        text-align: right;\n",
       "    }\n",
       "</style>\n",
       "<table border=\"1\" class=\"dataframe\">\n",
       "  <thead>\n",
       "    <tr style=\"text-align: right;\">\n",
       "      <th></th>\n",
       "      <th>Fundamentals</th>\n",
       "      <th>Strings</th>\n",
       "      <th>Mathematics</th>\n",
       "      <th>Regular Expressions</th>\n",
       "      <th>Algorithms</th>\n",
       "      <th>Lists</th>\n",
       "      <th>Arrays</th>\n",
       "      <th>Data Structures</th>\n",
       "      <th>SQL</th>\n",
       "      <th>Databases</th>\n",
       "      <th>Data Science</th>\n",
       "    </tr>\n",
       "  </thead>\n",
       "  <tbody>\n",
       "    <tr>\n",
       "      <th>Shell</th>\n",
       "      <td>38</td>\n",
       "      <td>10.0</td>\n",
       "      <td>10.0</td>\n",
       "      <td>NaN</td>\n",
       "      <td>NaN</td>\n",
       "      <td>NaN</td>\n",
       "      <td>NaN</td>\n",
       "      <td>NaN</td>\n",
       "      <td>NaN</td>\n",
       "      <td>NaN</td>\n",
       "      <td>NaN</td>\n",
       "    </tr>\n",
       "    <tr>\n",
       "      <th>Python</th>\n",
       "      <td>274</td>\n",
       "      <td>118.0</td>\n",
       "      <td>32.0</td>\n",
       "      <td>56.0</td>\n",
       "      <td>94.0</td>\n",
       "      <td>16.0</td>\n",
       "      <td>84.0</td>\n",
       "      <td>8.0</td>\n",
       "      <td>NaN</td>\n",
       "      <td>NaN</td>\n",
       "      <td>NaN</td>\n",
       "    </tr>\n",
       "    <tr>\n",
       "      <th>BF</th>\n",
       "      <td>22</td>\n",
       "      <td>8.0</td>\n",
       "      <td>NaN</td>\n",
       "      <td>NaN</td>\n",
       "      <td>NaN</td>\n",
       "      <td>NaN</td>\n",
       "      <td>NaN</td>\n",
       "      <td>NaN</td>\n",
       "      <td>NaN</td>\n",
       "      <td>NaN</td>\n",
       "      <td>NaN</td>\n",
       "    </tr>\n",
       "    <tr>\n",
       "      <th>SQL</th>\n",
       "      <td>74</td>\n",
       "      <td>10.0</td>\n",
       "      <td>10.0</td>\n",
       "      <td>NaN</td>\n",
       "      <td>NaN</td>\n",
       "      <td>NaN</td>\n",
       "      <td>NaN</td>\n",
       "      <td>NaN</td>\n",
       "      <td>46.0</td>\n",
       "      <td>20.0</td>\n",
       "      <td>10.0</td>\n",
       "    </tr>\n",
       "    <tr>\n",
       "      <th>JavaScript</th>\n",
       "      <td>76</td>\n",
       "      <td>14.0</td>\n",
       "      <td>NaN</td>\n",
       "      <td>NaN</td>\n",
       "      <td>NaN</td>\n",
       "      <td>NaN</td>\n",
       "      <td>18.0</td>\n",
       "      <td>NaN</td>\n",
       "      <td>NaN</td>\n",
       "      <td>NaN</td>\n",
       "      <td>NaN</td>\n",
       "    </tr>\n",
       "  </tbody>\n",
       "</table>\n",
       "</div>"
      ],
      "text/plain": [
       "            Fundamentals  Strings  Mathematics  Regular Expressions  \\\n",
       "Shell                 38     10.0         10.0                  NaN   \n",
       "Python               274    118.0         32.0                 56.0   \n",
       "BF                    22      8.0          NaN                  NaN   \n",
       "SQL                   74     10.0         10.0                  NaN   \n",
       "JavaScript            76     14.0          NaN                  NaN   \n",
       "\n",
       "            Algorithms  Lists  Arrays  Data Structures   SQL  Databases  \\\n",
       "Shell              NaN    NaN     NaN              NaN   NaN        NaN   \n",
       "Python            94.0   16.0    84.0              8.0   NaN        NaN   \n",
       "BF                 NaN    NaN     NaN              NaN   NaN        NaN   \n",
       "SQL                NaN    NaN     NaN              NaN  46.0       20.0   \n",
       "JavaScript         NaN    NaN    18.0              NaN   NaN        NaN   \n",
       "\n",
       "            Data Science  \n",
       "Shell                NaN  \n",
       "Python               NaN  \n",
       "BF                   NaN  \n",
       "SQL                 10.0  \n",
       "JavaScript           NaN  "
      ]
     },
     "execution_count": 82,
     "metadata": {},
     "output_type": "execute_result"
    }
   ],
   "source": [
    "language_tags_df.head()"
   ]
  },
  {
   "cell_type": "code",
   "execution_count": 83,
   "metadata": {},
   "outputs": [],
   "source": [
    "# Replace NaN with 0\n",
    "language_tags_df.fillna(0, inplace=True)"
   ]
  },
  {
   "cell_type": "code",
   "execution_count": 84,
   "metadata": {},
   "outputs": [
    {
     "data": {
      "text/plain": [
       "<AxesSubplot:>"
      ]
     },
     "execution_count": 84,
     "metadata": {},
     "output_type": "execute_result"
    },
    {
     "data": {
      "image/png": "[encoded data removed]",
      "text/plain": [
       "<Figure size 2000x1000 with 2 Axes>"
      ]
     },
     "metadata": {},
     "output_type": "display_data"
    }
   ],
   "source": [
    "# Now let's create a heatmap\n",
    "plt.figure(figsize=(20, 10))\n",
    "sns.heatmap(language_tags_df, annot=True, fmt='g', cmap='rocket')"
   ]
  },
  {
   "attachments": {},
   "cell_type": "markdown",
   "metadata": {},
   "source": [
    "# TODO!"
   ]
  },
  {
   "attachments": {},
   "cell_type": "markdown",
   "metadata": {},
   "source": [
    "Next thing to do is write a function to scrape instead of hard-coding\n",
    "The test scraper and full scraper run on different code"
   ]
  }
 ],
 "metadata": {
  "kernelspec": {
   "display_name": "Python 3",
   "language": "python",
   "name": "python3"
  },
  "language_info": {
   "codemirror_mode": {
    "name": "ipython",
    "version": 3
   },
   "file_extension": ".py",
   "mimetype": "text/x-python",
   "name": "python",
   "nbconvert_exporter": "python",
   "pygments_lexer": "ipython3",
   "version": "3.10.6"
  },
  "orig_nbformat": 4
 },
 "nbformat": 4,
 "nbformat_minor": 2
}
